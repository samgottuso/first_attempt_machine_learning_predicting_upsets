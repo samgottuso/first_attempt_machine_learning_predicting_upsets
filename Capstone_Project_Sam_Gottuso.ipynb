{
 "cells": [
  {
   "cell_type": "code",
   "execution_count": 1,
   "metadata": {},
   "outputs": [
    {
     "name": "stderr",
     "output_type": "stream",
     "text": [
      "Skipping line 257: expected 48 fields, saw 49\n",
      "Skipping line 258: expected 48 fields, saw 49\n",
      "Skipping line 259: expected 48 fields, saw 49\n",
      "Skipping line 260: expected 48 fields, saw 49\n",
      "Skipping line 261: expected 48 fields, saw 49\n",
      "Skipping line 262: expected 48 fields, saw 49\n",
      "Skipping line 263: expected 48 fields, saw 49\n",
      "Skipping line 264: expected 48 fields, saw 49\n",
      "Skipping line 265: expected 48 fields, saw 49\n",
      "Skipping line 266: expected 48 fields, saw 49\n",
      "Skipping line 267: expected 48 fields, saw 49\n",
      "Skipping line 268: expected 48 fields, saw 49\n",
      "Skipping line 269: expected 48 fields, saw 49\n",
      "Skipping line 270: expected 48 fields, saw 49\n",
      "Skipping line 271: expected 48 fields, saw 49\n",
      "Skipping line 272: expected 48 fields, saw 49\n",
      "Skipping line 273: expected 48 fields, saw 51\n",
      "Skipping line 274: expected 48 fields, saw 51\n",
      "Skipping line 275: expected 48 fields, saw 51\n",
      "Skipping line 276: expected 48 fields, saw 51\n",
      "Skipping line 277: expected 48 fields, saw 51\n",
      "Skipping line 278: expected 48 fields, saw 51\n",
      "Skipping line 279: expected 48 fields, saw 51\n",
      "Skipping line 280: expected 48 fields, saw 51\n",
      "Skipping line 281: expected 48 fields, saw 51\n",
      "Skipping line 282: expected 48 fields, saw 51\n",
      "Skipping line 283: expected 48 fields, saw 51\n",
      "Skipping line 284: expected 48 fields, saw 51\n",
      "Skipping line 285: expected 48 fields, saw 51\n",
      "Skipping line 286: expected 48 fields, saw 51\n",
      "Skipping line 287: expected 48 fields, saw 51\n",
      "Skipping line 288: expected 48 fields, saw 51\n",
      "Skipping line 321: expected 48 fields, saw 49\n",
      "Skipping line 322: expected 48 fields, saw 49\n",
      "Skipping line 323: expected 48 fields, saw 49\n",
      "Skipping line 324: expected 48 fields, saw 49\n",
      "Skipping line 325: expected 48 fields, saw 49\n",
      "Skipping line 326: expected 48 fields, saw 49\n",
      "Skipping line 327: expected 48 fields, saw 49\n",
      "Skipping line 328: expected 48 fields, saw 49\n",
      "Skipping line 329: expected 48 fields, saw 49\n",
      "Skipping line 330: expected 48 fields, saw 49\n",
      "Skipping line 331: expected 48 fields, saw 49\n",
      "Skipping line 332: expected 48 fields, saw 49\n",
      "Skipping line 333: expected 48 fields, saw 49\n",
      "Skipping line 334: expected 48 fields, saw 49\n",
      "Skipping line 335: expected 48 fields, saw 49\n",
      "Skipping line 336: expected 48 fields, saw 49\n",
      "Skipping line 337: expected 48 fields, saw 53\n",
      "Skipping line 338: expected 48 fields, saw 53\n",
      "Skipping line 339: expected 48 fields, saw 53\n",
      "Skipping line 340: expected 48 fields, saw 53\n",
      "Skipping line 341: expected 48 fields, saw 53\n",
      "Skipping line 342: expected 48 fields, saw 53\n",
      "Skipping line 343: expected 48 fields, saw 53\n",
      "Skipping line 344: expected 48 fields, saw 53\n",
      "Skipping line 345: expected 48 fields, saw 53\n",
      "Skipping line 346: expected 48 fields, saw 53\n",
      "Skipping line 347: expected 48 fields, saw 53\n",
      "Skipping line 348: expected 48 fields, saw 53\n",
      "Skipping line 349: expected 48 fields, saw 53\n",
      "Skipping line 350: expected 48 fields, saw 53\n",
      "Skipping line 351: expected 48 fields, saw 53\n",
      "Skipping line 352: expected 48 fields, saw 53\n",
      "\n",
      "Skipping line 305: expected 57 fields, saw 72\n",
      "Skipping line 306: expected 57 fields, saw 72\n",
      "Skipping line 307: expected 57 fields, saw 72\n",
      "Skipping line 308: expected 57 fields, saw 72\n",
      "Skipping line 309: expected 57 fields, saw 72\n",
      "Skipping line 310: expected 57 fields, saw 72\n",
      "Skipping line 311: expected 57 fields, saw 72\n",
      "Skipping line 312: expected 57 fields, saw 72\n",
      "Skipping line 313: expected 57 fields, saw 72\n",
      "Skipping line 314: expected 57 fields, saw 72\n",
      "Skipping line 315: expected 57 fields, saw 72\n",
      "Skipping line 316: expected 57 fields, saw 72\n",
      "Skipping line 317: expected 57 fields, saw 72\n",
      "Skipping line 318: expected 57 fields, saw 72\n",
      "Skipping line 319: expected 57 fields, saw 72\n",
      "Skipping line 320: expected 57 fields, saw 72\n",
      "Skipping line 321: expected 57 fields, saw 72\n",
      "Skipping line 322: expected 57 fields, saw 72\n",
      "Skipping line 323: expected 57 fields, saw 72\n",
      "Skipping line 324: expected 57 fields, saw 72\n",
      "Skipping line 325: expected 57 fields, saw 72\n",
      "Skipping line 326: expected 57 fields, saw 72\n",
      "Skipping line 327: expected 57 fields, saw 72\n",
      "Skipping line 328: expected 57 fields, saw 72\n",
      "Skipping line 329: expected 57 fields, saw 72\n",
      "Skipping line 330: expected 57 fields, saw 72\n",
      "Skipping line 331: expected 57 fields, saw 72\n",
      "Skipping line 332: expected 57 fields, saw 72\n",
      "Skipping line 333: expected 57 fields, saw 72\n",
      "Skipping line 334: expected 57 fields, saw 72\n",
      "Skipping line 335: expected 57 fields, saw 72\n",
      "Skipping line 336: expected 57 fields, saw 72\n",
      "Skipping line 369: expected 57 fields, saw 62\n",
      "Skipping line 370: expected 57 fields, saw 62\n",
      "Skipping line 371: expected 57 fields, saw 62\n",
      "Skipping line 372: expected 57 fields, saw 62\n",
      "Skipping line 373: expected 57 fields, saw 62\n",
      "Skipping line 374: expected 57 fields, saw 62\n",
      "Skipping line 375: expected 57 fields, saw 62\n",
      "Skipping line 376: expected 57 fields, saw 62\n",
      "Skipping line 377: expected 57 fields, saw 62\n",
      "Skipping line 378: expected 57 fields, saw 62\n",
      "Skipping line 379: expected 57 fields, saw 62\n",
      "Skipping line 380: expected 57 fields, saw 62\n",
      "Skipping line 381: expected 57 fields, saw 62\n",
      "\n",
      "Skipping line 337: expected 57 fields, saw 62\n",
      "Skipping line 338: expected 57 fields, saw 62\n",
      "Skipping line 339: expected 57 fields, saw 62\n",
      "Skipping line 340: expected 57 fields, saw 62\n",
      "Skipping line 341: expected 57 fields, saw 62\n",
      "Skipping line 342: expected 57 fields, saw 62\n",
      "Skipping line 343: expected 57 fields, saw 62\n",
      "Skipping line 344: expected 57 fields, saw 62\n",
      "Skipping line 345: expected 57 fields, saw 62\n",
      "Skipping line 346: expected 57 fields, saw 62\n",
      "Skipping line 347: expected 57 fields, saw 62\n",
      "Skipping line 348: expected 57 fields, saw 62\n",
      "Skipping line 349: expected 57 fields, saw 62\n",
      "Skipping line 350: expected 57 fields, saw 62\n",
      "Skipping line 351: expected 57 fields, saw 62\n",
      "Skipping line 352: expected 57 fields, saw 62\n",
      "Skipping line 353: expected 57 fields, saw 62\n",
      "Skipping line 354: expected 57 fields, saw 62\n",
      "Skipping line 355: expected 57 fields, saw 62\n",
      "Skipping line 356: expected 57 fields, saw 62\n",
      "Skipping line 357: expected 57 fields, saw 62\n",
      "Skipping line 358: expected 57 fields, saw 62\n",
      "Skipping line 359: expected 57 fields, saw 62\n",
      "Skipping line 360: expected 57 fields, saw 62\n",
      "Skipping line 361: expected 57 fields, saw 62\n",
      "Skipping line 362: expected 57 fields, saw 62\n",
      "Skipping line 363: expected 57 fields, saw 62\n",
      "Skipping line 364: expected 57 fields, saw 62\n",
      "Skipping line 365: expected 57 fields, saw 62\n",
      "Skipping line 366: expected 57 fields, saw 62\n",
      "Skipping line 367: expected 57 fields, saw 62\n",
      "Skipping line 368: expected 57 fields, saw 62\n",
      "Skipping line 369: expected 57 fields, saw 62\n",
      "Skipping line 370: expected 57 fields, saw 62\n",
      "Skipping line 371: expected 57 fields, saw 62\n",
      "Skipping line 372: expected 57 fields, saw 62\n",
      "Skipping line 373: expected 57 fields, saw 62\n",
      "Skipping line 374: expected 57 fields, saw 62\n",
      "Skipping line 375: expected 57 fields, saw 62\n",
      "Skipping line 376: expected 57 fields, saw 62\n",
      "Skipping line 377: expected 57 fields, saw 62\n",
      "Skipping line 378: expected 57 fields, saw 62\n",
      "Skipping line 379: expected 57 fields, saw 62\n",
      "Skipping line 380: expected 57 fields, saw 62\n",
      "Skipping line 381: expected 57 fields, saw 62\n",
      "\n"
     ]
    }
   ],
   "source": [
    "import numpy as np\n",
    "import pandas as pd\n",
    "import matplotlib.pyplot as plt\n",
    "import seaborn as sns\n",
    "\n",
    "# allow plots to appear in the notebook\n",
    "%matplotlib inline\n",
    "\n",
    "#Importing all of the files\n",
    "S_2=pd.read_csv('~/Desktop/data_science/epl_2002.csv', error_bad_lines=False)\n",
    "S_3=pd.read_csv('~/Desktop/data_science/epl_2003.csv', error_bad_lines=False)\n",
    "S_4=pd.read_csv('~/Desktop/data_science/epl_2004.csv', error_bad_lines=False)\n",
    "S_5=pd.read_csv('~/Desktop/data_science/epl_2005.csv', error_bad_lines=False)\n",
    "S_6=pd.read_csv('~/Desktop/data_science/epl_2006.csv', error_bad_lines=False)\n",
    "S_7=pd.read_csv('~/Desktop/data_science/epl_2007.csv', error_bad_lines=False)\n",
    "S_8=pd.read_csv('~/Desktop/data_science/epl_2008.csv', error_bad_lines=False)\n",
    "S_9=pd.read_csv('~/Desktop/data_science/epl_2009.csv', error_bad_lines=False)\n",
    "S_10=pd.read_csv('~/Desktop/data_science/epl_2010.csv', error_bad_lines=False)\n",
    "S_11=pd.read_csv('~/Desktop/data_science/epl_2011.csv', error_bad_lines=False)\n",
    "S_12=pd.read_csv('~/Desktop/data_science/epl_2012.csv', error_bad_lines=False)\n",
    "S_13=pd.read_csv('~/Desktop/data_science/epl_2013.csv', error_bad_lines=False)\n",
    "S_14=pd.read_csv('~/Desktop/data_science/epl_2014.csv', error_bad_lines=False)\n",
    "S_15=pd.read_csv('~/Desktop/data_science/epl_2015.csv', error_bad_lines=False)\n",
    "S_16=pd .read_csv('~/Desktop/data_science/epl_2016.csv', error_bad_lines=False)\n",
    "S_17=pd.read_csv('~/Desktop/data_science/epl_2017.csv', error_bad_lines=False)"
   ]
  },
  {
   "cell_type": "code",
   "execution_count": 2,
   "metadata": {},
   "outputs": [
    {
     "data": {
      "text/plain": [
       "5927"
      ]
     },
     "execution_count": 2,
     "metadata": {},
     "output_type": "execute_result"
    }
   ],
   "source": [
    "#This allows us to merge the data together into 1 data source-- see that we are working with 5927 games\n",
    "\n",
    "data_names=[S_2,S_3,S_4,S_5,S_6,S_7,S_8,S_9,S_10,S_11,S_12,S_13,S_14,S_15,S_16,S_17]\n",
    "\n",
    "merged_data=pd.concat(data_names,ignore_index=True,join='inner')\n",
    "\n",
    "merged_data.dtypes\n",
    "\n",
    "\n",
    "\n",
    "\n",
    "len(merged_data)\n",
    "\n",
    "            \n",
    "            \n",
    "\n",
    "\n",
    "\n"
   ]
  },
  {
   "cell_type": "code",
   "execution_count": 3,
   "metadata": {},
   "outputs": [
    {
     "name": "stderr",
     "output_type": "stream",
     "text": [
      "C:\\Users\\583185\\AppData\\Local\\Continuum\\Anaconda3\\envs\\py27\\lib\\site-packages\\ipykernel_launcher.py:17: SettingWithCopyWarning: \n",
      "A value is trying to be set on a copy of a slice from a DataFrame\n",
      "\n",
      "See the caveats in the documentation: http://pandas.pydata.org/pandas-docs/stable/indexing.html#indexing-view-versus-copy\n",
      "C:\\Users\\583185\\AppData\\Local\\Continuum\\Anaconda3\\envs\\py27\\lib\\site-packages\\ipykernel_launcher.py:27: SettingWithCopyWarning: \n",
      "A value is trying to be set on a copy of a slice from a DataFrame\n",
      "\n",
      "See the caveats in the documentation: http://pandas.pydata.org/pandas-docs/stable/indexing.html#indexing-view-versus-copy\n",
      "C:\\Users\\583185\\AppData\\Local\\Continuum\\Anaconda3\\envs\\py27\\lib\\site-packages\\ipykernel_launcher.py:25: SettingWithCopyWarning: \n",
      "A value is trying to be set on a copy of a slice from a DataFrame\n",
      "\n",
      "See the caveats in the documentation: http://pandas.pydata.org/pandas-docs/stable/indexing.html#indexing-view-versus-copy\n",
      "C:\\Users\\583185\\AppData\\Local\\Continuum\\Anaconda3\\envs\\py27\\lib\\site-packages\\ipykernel_launcher.py:19: SettingWithCopyWarning: \n",
      "A value is trying to be set on a copy of a slice from a DataFrame\n",
      "\n",
      "See the caveats in the documentation: http://pandas.pydata.org/pandas-docs/stable/indexing.html#indexing-view-versus-copy\n",
      "C:\\Users\\583185\\AppData\\Local\\Continuum\\Anaconda3\\envs\\py27\\lib\\site-packages\\ipykernel_launcher.py:23: SettingWithCopyWarning: \n",
      "A value is trying to be set on a copy of a slice from a DataFrame\n",
      "\n",
      "See the caveats in the documentation: http://pandas.pydata.org/pandas-docs/stable/indexing.html#indexing-view-versus-copy\n",
      "C:\\Users\\583185\\AppData\\Local\\Continuum\\Anaconda3\\envs\\py27\\lib\\site-packages\\ipykernel_launcher.py:21: SettingWithCopyWarning: \n",
      "A value is trying to be set on a copy of a slice from a DataFrame\n",
      "\n",
      "See the caveats in the documentation: http://pandas.pydata.org/pandas-docs/stable/indexing.html#indexing-view-versus-copy\n"
     ]
    }
   ],
   "source": [
    "#This cell adds what the Sports books picks were and whether or not it was an upset (not the same as what the sport books predicted)\n",
    "#WARNING THIS CELL TAKES FOREVER TO RUN\n",
    "test_data=merged_data\n",
    "test_data['pick']=str\n",
    "test_data['upset']=int\n",
    "\n",
    "\n",
    "ft_col=['Date','HomeTeam','AwayTeam','FTHG','FTAG','FTR','HS','AS','HST','AST','HF','AF','HY','AY','pick','upset','B365H','B365D','B365A']\n",
    "test_data_ft=test_data[ft_col]\n",
    "\n",
    "##Initial data cleaning and addition of columns-- this function adds both what Bet 365 picked for the game (with the lowest odds) and whether the actual result matched that\n",
    "\n",
    "def odds_pick(data):\n",
    "    for i in range(0,len(data)):\n",
    "            min_odds=min(data.B365H[i],data.B365A[i],data.B365D[i])\n",
    "            if min_odds==data.B365H.loc[i]:\n",
    "                data['pick'][i]='H'\n",
    "            elif min_odds==data.B365A.loc[i]:\n",
    "                data['pick'][i]='A'\n",
    "            else:\n",
    "                data['pick'][i]='D'\n",
    "            if data.pick.loc[i]==data.FTR.loc[i]:\n",
    "                data['upset'][i]=0\n",
    "            else:\n",
    "                data['upset'][i]=1           \n",
    "\n",
    "odds_pick(test_data_ft)\n",
    "\n",
    "\n"
   ]
  },
  {
   "cell_type": "code",
   "execution_count": 4,
   "metadata": {},
   "outputs": [
    {
     "name": "stdout",
     "output_type": "stream",
     "text": [
      "     FTR  home\n",
      "0      D     1\n",
      "1      A     0\n",
      "2      D     1\n",
      "3      H     2\n",
      "4      H     2\n",
      "5      H     2\n",
      "6      D     1\n",
      "7      H     2\n",
      "8      A     0\n",
      "9      H     2\n",
      "10     D     1\n",
      "11     A     0\n",
      "12     A     0\n",
      "13     H     2\n",
      "14     H     2\n",
      "15     D     1\n",
      "16     A     0\n",
      "17     H     2\n",
      "18     A     0\n",
      "19     D     1\n",
      "20     H     2\n",
      "21     A     0\n",
      "22     H     2\n",
      "23     D     1\n",
      "24     D     1\n",
      "25     A     0\n",
      "26     D     1\n",
      "27     H     2\n",
      "28     H     2\n",
      "29     H     2\n",
      "...   ..   ...\n",
      "5897   H     2\n",
      "5898   H     2\n",
      "5899   D     1\n",
      "5900   H     2\n",
      "5901   A     0\n",
      "5902   H     2\n",
      "5903   A     0\n",
      "5904   H     2\n",
      "5905   H     2\n",
      "5906   A     0\n",
      "5907   A     0\n",
      "5908   A     0\n",
      "5909   H     2\n",
      "5910   H     2\n",
      "5911   A     0\n",
      "5912   H     2\n",
      "5913   H     2\n",
      "5914   H     2\n",
      "5915   D     1\n",
      "5916   A     0\n",
      "5917   H     2\n",
      "5918   A     0\n",
      "5919   H     2\n",
      "5920   A     0\n",
      "5921   D     1\n",
      "5922   H     2\n",
      "5923   H     2\n",
      "5924   A     0\n",
      "5925   H     2\n",
      "5926   A     0\n",
      "\n",
      "[5927 rows x 2 columns]\n"
     ]
    },
    {
     "name": "stderr",
     "output_type": "stream",
     "text": [
      "C:\\Users\\583185\\AppData\\Local\\Continuum\\Anaconda3\\envs\\py27\\lib\\site-packages\\ipykernel_launcher.py:3: SettingWithCopyWarning: \n",
      "A value is trying to be set on a copy of a slice from a DataFrame.\n",
      "Try using .loc[row_indexer,col_indexer] = value instead\n",
      "\n",
      "See the caveats in the documentation: http://pandas.pydata.org/pandas-docs/stable/indexing.html#indexing-view-versus-copy\n",
      "  This is separate from the ipykernel package so we can avoid doing imports until\n"
     ]
    }
   ],
   "source": [
    "##Testing the value of being at home... if the winning team was at home=2, if home team draw=1 if lost=0\n",
    "\n",
    "test_data_ft['home'] = pd.factorize(test_data_ft['FTR'],sort=['A','D','H'])[0]\n",
    "#Making sure everything lines up\n",
    "print(test_data_ft[['FTR','home']])"
   ]
  },
  {
   "cell_type": "code",
   "execution_count": 5,
   "metadata": {},
   "outputs": [
    {
     "name": "stdout",
     "output_type": "stream",
     "text": [
      "Date        1\n",
      "HomeTeam    1\n",
      "AwayTeam    1\n",
      "FTHG        1\n",
      "FTAG        1\n",
      "FTR         1\n",
      "HS          1\n",
      "AS          1\n",
      "HST         1\n",
      "AST         1\n",
      "HF          1\n",
      "AF          1\n",
      "HY          1\n",
      "AY          1\n",
      "pick        0\n",
      "upset       0\n",
      "B365H       1\n",
      "B365D       1\n",
      "B365A       1\n",
      "home        0\n",
      "dtype: int64\n",
      "Date         object\n",
      "HomeTeam     object\n",
      "AwayTeam     object\n",
      "FTHG        float64\n",
      "FTAG        float64\n",
      "FTR          object\n",
      "HS          float64\n",
      "AS          float64\n",
      "HST         float64\n",
      "AST         float64\n",
      "HF          float64\n",
      "AF          float64\n",
      "HY          float64\n",
      "AY          float64\n",
      "pick         object\n",
      "upset        object\n",
      "B365H       float64\n",
      "B365D       float64\n",
      "B365A       float64\n",
      "home          int64\n",
      "dtype: object\n"
     ]
    }
   ],
   "source": [
    "#Make sure it didn't return any null values and checking object types\n",
    "\n",
    "print(pd.isnull(test_data_ft).sum())\n",
    "print(test_data_ft.dtypes)\n",
    "\n",
    "#Ah man we got 1  row that doesn't work"
   ]
  },
  {
   "cell_type": "code",
   "execution_count": 12,
   "metadata": {
    "scrolled": false
   },
   "outputs": [
    {
     "name": "stdout",
     "output_type": "stream",
     "text": [
      "5926\n"
     ]
    }
   ],
   "source": [
    "#Getting rid of that 1 null value\n",
    "test_data_ft_noNA=test_data_ft.dropna()\n",
    "\n",
    "print(len(test_data_ft_noNA))\n",
    "\n",
    "#yep 1 shorter\n",
    "\n",
    "\n",
    "test_data_ft=test_data_ft_noNA\n",
    "\n"
   ]
  },
  {
   "cell_type": "code",
   "execution_count": 56,
   "metadata": {
    "scrolled": true
   },
   "outputs": [
    {
     "name": "stdout",
     "output_type": "stream",
     "text": [
      "Date                      object\n",
      "HomeTeam                  object\n",
      "AwayTeam                  object\n",
      "FTHG                     float64\n",
      "FTAG                     float64\n",
      "FTR                       object\n",
      "HS                       float64\n",
      "AS                       float64\n",
      "HST                      float64\n",
      "AST                      float64\n",
      "HF                       float64\n",
      "AF                       float64\n",
      "HY                       float64\n",
      "AY                       float64\n",
      "pick                      object\n",
      "upset                      int32\n",
      "B365H                    float64\n",
      "B365D                    float64\n",
      "B365A                    float64\n",
      "home                       int32\n",
      "total_shots              float64\n",
      "total_shots_on_target    float64\n",
      "total_goals              float64\n",
      "total_fouls              float64\n",
      "total_yellow             float64\n",
      "dtype: object\n",
      "Date                      object\n",
      "HomeTeam                  object\n",
      "AwayTeam                  object\n",
      "FTHG                     float64\n",
      "FTAG                     float64\n",
      "FTR                       object\n",
      "HS                       float64\n",
      "AS                       float64\n",
      "HST                      float64\n",
      "AST                      float64\n",
      "HF                       float64\n",
      "AF                       float64\n",
      "HY                       float64\n",
      "AY                       float64\n",
      "pick                      object\n",
      "upset                      int32\n",
      "B365H                    float64\n",
      "B365D                    float64\n",
      "B365A                    float64\n",
      "home                       int32\n",
      "total_shots              float64\n",
      "total_shots_on_target    float64\n",
      "total_goals              float64\n",
      "total_fouls              float64\n",
      "total_yellow             float64\n",
      "dtype: object\n"
     ]
    }
   ],
   "source": [
    "##Creating some other fields which will be useful for comparing games to one another\n",
    "test_data_ft['total_shots']=test_data_ft.HS+test_data_ft.AS\n",
    "test_data_ft['total_shots_on_target']=test_data_ft.HST+test_data_ft.AST\n",
    "test_data_ft['total_goals']=test_data_ft.FTHG+test_data_ft.FTAG\n",
    "test_data_ft['total_fouls']=test_data_ft.HF+test_data_ft.AF\n",
    "test_data_ft['total_yellow']=test_data_ft.HY+test_data_ft.AY\n",
    "\n",
    "\n",
    "print(test_data_ft.dtypes)\n",
    "#returns some objects that mess things up later so let's change them up\n",
    "\n",
    "test_data_ft['upset']=test_data_ft['upset'].astype(str).astype(int)\n",
    "test_data_ft['home']=test_data_ft['home'].astype(str).astype(int)\n",
    "\n",
    "print(test_data_ft.dtypes)\n"
   ]
  },
  {
   "cell_type": "code",
   "execution_count": 63,
   "metadata": {},
   "outputs": [
    {
     "name": "stdout",
     "output_type": "stream",
     "text": [
      "                          upset      home  total_shots  total_shots_on_target  \\\n",
      "upset                  1.000000 -0.388659    -0.037030              -0.084261   \n",
      "home                  -0.388659  1.000000    -0.015887               0.025178   \n",
      "total_shots           -0.037030 -0.015887     1.000000               0.558574   \n",
      "total_shots_on_target -0.084261  0.025178     0.558574               1.000000   \n",
      "total_fouls            0.090721 -0.003695    -0.170771              -0.044750   \n",
      "total_yellow           0.091919 -0.056069    -0.042895              -0.063091   \n",
      "total_goals           -0.208178  0.059242     0.207810               0.335494   \n",
      "\n",
      "                       total_fouls  total_yellow  total_goals  \n",
      "upset                     0.090721      0.091919    -0.208178  \n",
      "home                     -0.003695     -0.056069     0.059242  \n",
      "total_shots              -0.170771     -0.042895     0.207810  \n",
      "total_shots_on_target    -0.044750     -0.063091     0.335494  \n",
      "total_fouls               1.000000      0.354722    -0.056359  \n",
      "total_yellow              0.354722      1.000000    -0.007362  \n",
      "total_goals              -0.056359     -0.007362     1.000000  \n",
      "Axes(0.125,0.125;0.62x0.755)\n"
     ]
    },
    {
     "data": {
      "image/png": "[encoded data removed]",
      "text/plain": [
       "<matplotlib.figure.Figure at 0xdd04be0>"
      ]
     },
     "metadata": {},
     "output_type": "display_data"
    }
   ],
   "source": [
    "#Figuring out what's related\n",
    "\n",
    "#Break down our data further so we can do some correlations\n",
    "numerical_cols=['upset','home','total_shots','total_shots_on_target','total_fouls','total_yellow','total_goals']\n",
    "numerical_data=test_data_ft[numerical_cols]\n",
    "\n",
    "num_cor=numerical_data.corr()\n",
    "\n",
    "print(num_cor)\n",
    "print(sns.heatmap(num_cor))\n",
    "\n",
    "#This info isn't super helpful (since we would assume that shots are correlated with shots on target already) so let's make a pivot table and look at averages by result\n",
    "\n"
   ]
  },
  {
   "cell_type": "code",
   "execution_count": 62,
   "metadata": {},
   "outputs": [
    {
     "name": "stdout",
     "output_type": "stream",
     "text": [
      "Axes(0.125,0.125;0.62x0.755)\n"
     ]
    },
    {
     "data": {
      "image/png": "[encoded data removed]",
      "text/plain": [
       "<matplotlib.figure.Figure at 0xe71f1d0>"
      ]
     },
     "metadata": {},
     "output_type": "display_data"
    }
   ],
   "source": [
    "#Making the pivot table\n",
    "\n",
    "ft_pt=['total_shots','total_shots_on_target','total_fouls','total_yellow','total_goals']\n",
    "\n",
    "piv=pd.pivot_table(numerical_data,columns=['upset'])\n",
    "p=pd.pivot_table(numerical_data,columns=[\"home\"])\n",
    "\n",
    "\n",
    "\n",
    "print(sns.heatmap(piv,annot=True,cmap='Reds'))\n",
    "\n",
    "\n",
    "#so initial hypthosis--- more defensively minded games (lots of fouls and yellows, lead to more upsets)"
   ]
  },
  {
   "cell_type": "code",
   "execution_count": 30,
   "metadata": {},
   "outputs": [
    {
     "name": "stdout",
     "output_type": "stream",
     "text": [
      "0.732793522267\n"
     ]
    }
   ],
   "source": [
    "#First model-- using logistic regression for classification with all of our factors\n",
    "from sklearn import linear_model, model_selection\n",
    "from sklearn.linear_model import LogisticRegression\n",
    "lr_1=LogisticRegression()\n",
    "\n",
    "ft_model=['home','total_shots','total_shots_on_target','total_fouls','total_yellow','total_goals']\n",
    "\n",
    "X_df=test_data_ft[ft_model]\n",
    "\n",
    "y_df=test_data_ft['upset']\n",
    "\n",
    "X=np.array(test_data_ft[ft_model])\n",
    "y=np.array(test_data_ft['upset'])\n",
    "\n",
    "\n",
    "X_train,X_test,y_train,y_test=model_selection.train_test_split(X,y,random_state=8)\n",
    "\n",
    "log1=linear_model.LogisticRegression(C=1e9).fit(X_train,y_train)\n",
    "\n",
    "\n",
    "print(log1.score(X_test,y_test))\n",
    "\n",
    "y_df.value_counts()\n",
    "\n",
    "\n",
    "y_pred_class=log1.predict(X)\n",
    "y_pre_proba=log1.predict_proba(X)"
   ]
  },
  {
   "cell_type": "code",
   "execution_count": 64,
   "metadata": {},
   "outputs": [
    {
     "data": {
      "text/html": [
       "<div>\n",
       "<style>\n",
       "    .dataframe thead tr:only-child th {\n",
       "        text-align: right;\n",
       "    }\n",
       "\n",
       "    .dataframe thead th {\n",
       "        text-align: left;\n",
       "    }\n",
       "\n",
       "    .dataframe tbody tr th {\n",
       "        vertical-align: top;\n",
       "    }\n",
       "</style>\n",
       "<table border=\"1\" class=\"dataframe\">\n",
       "  <thead>\n",
       "    <tr style=\"text-align: right;\">\n",
       "      <th></th>\n",
       "      <th>0</th>\n",
       "      <th>1</th>\n",
       "    </tr>\n",
       "  </thead>\n",
       "  <tbody>\n",
       "    <tr>\n",
       "      <th>0</th>\n",
       "      <td>home</td>\n",
       "      <td>[-0.973387412733]</td>\n",
       "    </tr>\n",
       "    <tr>\n",
       "      <th>1</th>\n",
       "      <td>total_shots</td>\n",
       "      <td>[0.00502548593475]</td>\n",
       "    </tr>\n",
       "    <tr>\n",
       "      <th>2</th>\n",
       "      <td>total_shots_on_target</td>\n",
       "      <td>[-0.0142986387496]</td>\n",
       "    </tr>\n",
       "    <tr>\n",
       "      <th>3</th>\n",
       "      <td>total_fouls</td>\n",
       "      <td>[0.0280761359771]</td>\n",
       "    </tr>\n",
       "    <tr>\n",
       "      <th>4</th>\n",
       "      <td>total_yellow</td>\n",
       "      <td>[0.0482805802643]</td>\n",
       "    </tr>\n",
       "    <tr>\n",
       "      <th>5</th>\n",
       "      <td>total_goals</td>\n",
       "      <td>[-0.258363083662]</td>\n",
       "    </tr>\n",
       "  </tbody>\n",
       "</table>\n",
       "</div>"
      ],
      "text/plain": [
       "                       0                   1\n",
       "0                   home   [-0.973387412733]\n",
       "1            total_shots  [0.00502548593475]\n",
       "2  total_shots_on_target  [-0.0142986387496]\n",
       "3            total_fouls   [0.0280761359771]\n",
       "4           total_yellow   [0.0482805802643]\n",
       "5            total_goals   [-0.258363083662]"
      ]
     },
     "execution_count": 64,
     "metadata": {},
     "output_type": "execute_result"
    }
   ],
   "source": [
    "#How are our factors weighed in the model?\n",
    "\n",
    "pd.DataFrame(zip(X_df.columns, np.transpose(log1.coef_)))"
   ]
  },
  {
   "cell_type": "code",
   "execution_count": 65,
   "metadata": {},
   "outputs": [
    {
     "name": "stdout",
     "output_type": "stream",
     "text": [
      "0.737540858898\n"
     ]
    }
   ],
   "source": [
    "#Scoring the model on cross validation\n",
    "from sklearn.model_selection import cross_val_score\n",
    "cross_val_scores = cross_val_score(log1, X_test, y_test, cv=10)\n",
    "print(cross_val_scores.mean())"
   ]
  },
  {
   "cell_type": "code",
   "execution_count": 66,
   "metadata": {},
   "outputs": [
    {
     "name": "stdout",
     "output_type": "stream",
     "text": [
      "0.587719298246\n",
      "0.7004048583\n"
     ]
    }
   ],
   "source": [
    "##How about a comparison of logistic models? Offensive vs defensive? Psychological vs other things\n",
    "\n",
    "ofensive_cats=['total_shots','total_shots_on_target','total_goals']\n",
    "X_offensive_df=test_data_ft[ofensive_cats]\n",
    "y_offensive_df=test_data_ft['upset']\n",
    "\n",
    "X_offensive=np.array(X_offensive_df)\n",
    "y_offensive=np.array(y_offensive_df)\n",
    "\n",
    "X_train_O,X_test_O,y_train_O,y_test_O=model_selection.train_test_split(X_offensive,y_offensive,random_state=8)\n",
    "\n",
    "\n",
    "lr_offensive=linear_model.LogisticRegression(C=1e9).fit(X_train_O,y_train_O)\n",
    "\n",
    "print lr_offensive.score(X_test_O,y_test_O)\n",
    "\n",
    "\n",
    "\n",
    "defensive_cats=['total_fouls','total_yellow','home']\n",
    "X_defensive=np.array(test_data_ft[defensive_cats])\n",
    "y_defensive=np.array(test_data_ft['upset'])\n",
    "\n",
    "X_train_D,X_test_D,y_train_D,y_test_D=model_selection.train_test_split(X_defensive,y_defensive,random_state=8)\n",
    "\n",
    "lr_defensive=linear_model.LogisticRegression(C=1e9).fit(X_train_D,y_train_D)\n",
    "\n",
    "print lr_defensive.score(X_test_D,y_test_D)\n",
    "\n"
   ]
  },
  {
   "cell_type": "code",
   "execution_count": 67,
   "metadata": {
    "collapsed": true
   },
   "outputs": [],
   "source": [
    "#How many neighbors should we pick?\n",
    "\n",
    "scores = []\n",
    "for k in range(1,100):\n",
    "    knn = KNeighborsClassifier(n_neighbors=k)\n",
    "    knn.fit(X,y)\n",
    "    pred = knn.predict(X)\n",
    "    score = float(sum(pred == y)) / len(y)\n",
    "    scores.append([k, score])"
   ]
  },
  {
   "cell_type": "code",
   "execution_count": 52,
   "metadata": {},
   "outputs": [
    {
     "data": {
      "image/png": "[encoded data removed]",
      "text/plain": [
       "<matplotlib.figure.Figure at 0xe5330b8>"
      ]
     },
     "metadata": {},
     "output_type": "display_data"
    }
   ],
   "source": [
    "#Ploting that ish\n",
    "plot_data = pd.DataFrame(scores,columns=['k','score'])\n",
    "plot_data.plot.line(x='k',y='score');"
   ]
  },
  {
   "cell_type": "code",
   "execution_count": 37,
   "metadata": {},
   "outputs": [
    {
     "name": "stdout",
     "output_type": "stream",
     "text": [
      "0.644399460189\n"
     ]
    }
   ],
   "source": [
    "##Okay how about a KNN model?\n",
    "\n",
    "from sklearn.neighbors import KNeighborsClassifier\n",
    "from sklearn import metrics\n",
    "knn_1 = KNeighborsClassifier(n_neighbors=18)\n",
    "knn_1.fit(X_train, y_train)\n",
    "\n",
    "y_pred_class = knn_1.predict(X_test)\n",
    "print(metrics.accuracy_score(y_test, y_pred_class))\n"
   ]
  },
  {
   "cell_type": "code",
   "execution_count": 40,
   "metadata": {},
   "outputs": [
    {
     "data": {
      "text/plain": [
       "<matplotlib.axes._subplots.AxesSubplot at 0xdb83b38>"
      ]
     },
     "execution_count": 40,
     "metadata": {},
     "output_type": "execute_result"
    },
    {
     "data": {
      "image/png": "[encoded data removed]",
      "text/plain": [
       "<matplotlib.figure.Figure at 0xdd74940>"
      ]
     },
     "metadata": {},
     "output_type": "display_data"
    }
   ],
   "source": [
    "###Difference in model scores\n",
    "\n",
    "models_score=[log1.score(X_test,y_test),lr_offensive.score(X_test_O,y_test_O),lr_defensive.score(X_test_D,y_test_D),cross_val_scores.mean(),metrics.accuracy_score(y_test, y_pred_class)]\n",
    "models_name=['Logistic Regression','Offensive','Defensive','Cross Val','KNN']\n",
    "\n",
    "\n",
    "scores_df=pd.DataFrame({'Model Score':models_score,'Model Name':models_name})\n",
    "\n",
    "sns.stripplot(x=\"Model Name\", y=\"Model Score\", data=scores_df)"
   ]
  },
  {
   "cell_type": "code",
   "execution_count": 47,
   "metadata": {
    "scrolled": false
   },
   "outputs": [
    {
     "name": "stdout",
     "output_type": "stream",
     "text": [
      "True     1086\n",
      "False     396\n",
      "Name: Correct, dtype: int64\n"
     ]
    },
    {
     "data": {
      "image/png": "[encoded data removed]",
      "text/plain": [
       "<matplotlib.figure.Figure at 0xe77c438>"
      ]
     },
     "metadata": {},
     "output_type": "display_data"
    }
   ],
   "source": [
    "#How well did the the logistic regression do on our training set?\n",
    "\n",
    "predictions=log1.predict(X_test)\n",
    "game_num=range(0,len(predictions))\n",
    "actual=y_test\n",
    "correct=(predictions==actual)\n",
    "\n",
    "predictions_df=pd.DataFrame({'Game Number':game_num,'Predicted':predictions,'Result':actual,'Correct':correct})\n",
    "#Counting number of correct predictions, stratifyed by the actual result... did better on predicting non-upsets\n",
    "sns.countplot(x=\"Correct\",data=predictions_df, hue='Result')\n",
    "print(predictions_df.Correct.value_counts())"
   ]
  },
  {
   "cell_type": "code",
   "execution_count": 48,
   "metadata": {},
   "outputs": [
    {
     "name": "stdout",
     "output_type": "stream",
     "text": [
      "number of upsets in  5926 matches is 2754\n",
      "0.464731690854\n"
     ]
    }
   ],
   "source": [
    "#For Comparison how did the sport books do?\n",
    "\n",
    "print 'number of upsets in ', len(test_data_ft), 'matches', 'is', (test_data_ft.upset.sum())\n",
    "\n",
    "print (float(test_data_ft.upset.sum())/(float(len(test_data_ft)))) #percentage of games that bookies got right"
   ]
  }
 ],
 "metadata": {
  "kernelspec": {
   "display_name": "Python 2",
   "language": "python",
   "name": "python2"
  },
  "language_info": {
   "codemirror_mode": {
    "name": "ipython",
    "version": 2
   },
   "file_extension": ".py",
   "mimetype": "text/x-python",
   "name": "python",
   "nbconvert_exporter": "python",
   "pygments_lexer": "ipython2",
   "version": "2.7.13"
  }
 },
 "nbformat": 4,
 "nbformat_minor": 2
}
