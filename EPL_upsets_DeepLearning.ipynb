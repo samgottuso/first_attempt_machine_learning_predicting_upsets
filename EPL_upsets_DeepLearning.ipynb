{
  "nbformat": 4,
  "nbformat_minor": 0,
  "metadata": {
    "colab": {
      "name": "EPL_upsets_DeepLearning.ipynb",
      "version": "0.3.2",
      "views": {},
      "default_view": {},
      "provenance": [],
      "collapsed_sections": []
    },
    "kernelspec": {
      "name": "python3",
      "display_name": "Python 3"
    },
    "accelerator": "GPU"
  },
  "cells": [
    {
      "metadata": {
        "id": "7LmuDucSp5Lw",
        "colab_type": "code",
        "colab": {
          "autoexec": {
            "startup": false,
            "wait_interval": 0
          },
          "output_extras": [
            {
              "item_id": 1
            }
          ],
          "base_uri": "https://localhost:8080/",
          "height": 34
        },
        "outputId": "d2d7c1ce-ed62-4ca6-90ca-4aaf4c3d0741",
        "executionInfo": {
          "status": "ok",
          "timestamp": 1519866504405,
          "user_tz": 300,
          "elapsed": 7509,
          "user": {
            "displayName": "Sam Gottuso",
            "photoUrl": "https://lh3.googleusercontent.com/a/default-user=s128",
            "userId": "100314253426387371036"
          }
        }
      },
      "cell_type": "code",
      "source": [
        "#Simply select \"GPU\" in the Accelerator drop-down in Notebook Settings (either through the Edit menu or the command palette at cmd/ctrl-shift-P).\n",
        "\n",
        "import tensorflow as tf\n",
        "device_name = tf.test.gpu_device_name()\n",
        "if device_name != '/device:GPU:0':\n",
        "  raise SystemError('GPU device not found')\n",
        "print('Found GPU at: {}'.format(device_name))"
      ],
      "execution_count": 1,
      "outputs": [
        {
          "output_type": "stream",
          "text": [
            "Found GPU at: /device:GPU:0\n"
          ],
          "name": "stdout"
        }
      ]
    },
    {
      "metadata": {
        "id": "isVSC-c7qgsB",
        "colab_type": "code",
        "colab": {
          "autoexec": {
            "startup": false,
            "wait_interval": 0
          },
          "output_extras": [
            {
              "item_id": 4
            }
          ],
          "base_uri": "https://localhost:8080/",
          "height": 537
        },
        "outputId": "cdf935f8-fbf9-4b54-a36c-bbf7574a4247",
        "executionInfo": {
          "status": "ok",
          "timestamp": 1519866525310,
          "user_tz": 300,
          "elapsed": 1393,
          "user": {
            "displayName": "Sam Gottuso",
            "photoUrl": "https://lh3.googleusercontent.com/a/default-user=s128",
            "userId": "100314253426387371036"
          }
        }
      },
      "cell_type": "code",
      "source": [
        "#Getting and unzipping data\n",
        "\n",
        "!wget https://raw.githubusercontent.com/samgottuso/first_attempt_machine_learning_predicting_upsets/master/EPL_upsets.zip -c\n",
        "\n",
        "!mkdir EPL_data\n",
        "\n",
        "!unzip EPL_upsets.zip -d EPL_data/"
      ],
      "execution_count": 4,
      "outputs": [
        {
          "output_type": "stream",
          "text": [
            "--2018-03-01 01:08:44--  https://raw.githubusercontent.com/samgottuso/first_attempt_machine_learning_predicting_upsets/master/EPL_upsets.zip\r\n",
            "Resolving raw.githubusercontent.com (raw.githubusercontent.com)... 151.101.32.133\r\n",
            "Connecting to raw.githubusercontent.com (raw.githubusercontent.com)|151.101.32.133|:443... connected.\n",
            "HTTP request sent, awaiting response... 200 OK\n",
            "Length: 440958 (431K) [application/zip]\n",
            "Saving to: ‘EPL_upsets.zip’\n",
            "\n",
            "EPL_upsets.zip      100%[===================>] 430.62K  --.-KB/s    in 0.07s   \n",
            "\n",
            "2018-03-01 01:08:44 (5.62 MB/s) - ‘EPL_upsets.zip’ saved [440958/440958]\n",
            "\n",
            "Archive:  EPL_upsets.zip\n",
            "  inflating: EPL_data/epl_2000.csv   \n",
            "  inflating: EPL_data/epl_2001.csv   \n",
            "  inflating: EPL_data/epl_2002.csv   \n",
            "  inflating: EPL_data/epl_2003.csv   \n",
            "  inflating: EPL_data/epl_2004.csv   \n",
            "  inflating: EPL_data/epl_2005.csv   \n",
            "  inflating: EPL_data/epl_2006.csv   \n",
            "  inflating: EPL_data/epl_2007.csv   \n",
            "  inflating: EPL_data/epl_2008.csv   \n",
            "  inflating: EPL_data/epl_2009.csv   \n",
            "  inflating: EPL_data/epl_2010.csv   \n",
            "  inflating: EPL_data/epl_2011.csv   \n",
            "  inflating: EPL_data/epl_2012.csv   \n",
            "  inflating: EPL_data/epl_2013.csv   \n",
            "  inflating: EPL_data/epl_2014.csv   \n",
            "  inflating: EPL_data/epl_2015.csv   \n",
            "  inflating: EPL_data/epl_2016.csv   \n",
            "  inflating: EPL_data/epl_2017.csv   \n"
          ],
          "name": "stdout"
        }
      ]
    },
    {
      "metadata": {
        "id": "eKZrZOcBubA6",
        "colab_type": "code",
        "colab": {
          "autoexec": {
            "startup": false,
            "wait_interval": 0
          },
          "output_extras": [
            {
              "item_id": 5
            }
          ],
          "base_uri": "https://localhost:8080/",
          "height": 589
        },
        "outputId": "c4f5be94-7e43-43e5-c472-c3a1eb71b002",
        "executionInfo": {
          "status": "ok",
          "timestamp": 1519866531481,
          "user_tz": 300,
          "elapsed": 1577,
          "user": {
            "displayName": "Sam Gottuso",
            "photoUrl": "https://lh3.googleusercontent.com/a/default-user=s128",
            "userId": "100314253426387371036"
          }
        }
      },
      "cell_type": "code",
      "source": [
        "#Some of these won't play nicely with others\n",
        "\n",
        "!wget https://raw.githubusercontent.com/samgottuso/first_attempt_machine_learning_predicting_upsets/master/epl_2000.csv\n",
        "!wget https://raw.githubusercontent.com/samgottuso/first_attempt_machine_learning_predicting_upsets/master/epl_2001.csv\n",
        "!wget https://raw.githubusercontent.com/samgottuso/first_attempt_machine_learning_predicting_upsets/master/epl_2002.csv"
      ],
      "execution_count": 5,
      "outputs": [
        {
          "output_type": "stream",
          "text": [
            "--2018-03-01 01:08:50--  https://raw.githubusercontent.com/samgottuso/first_attempt_machine_learning_predicting_upsets/master/epl_2000.csv\r\n",
            "Resolving raw.githubusercontent.com (raw.githubusercontent.com)... 151.101.32.133\r\n",
            "Connecting to raw.githubusercontent.com (raw.githubusercontent.com)|151.101.32.133|:443... connected.\n",
            "HTTP request sent, awaiting response... 200 OK\n",
            "Length: 62148 (61K) [text/plain]\n",
            "Saving to: ‘epl_2000.csv’\n",
            "\n",
            "epl_2000.csv        100%[===================>]  60.69K  --.-KB/s    in 0.03s   \n",
            "\n",
            "2018-03-01 01:08:50 (2.16 MB/s) - ‘epl_2000.csv’ saved [62148/62148]\n",
            "\n",
            "--2018-03-01 01:08:50--  https://raw.githubusercontent.com/samgottuso/first_attempt_machine_learning_predicting_upsets/master/epl_2001.csv\n",
            "Resolving raw.githubusercontent.com (raw.githubusercontent.com)... 151.101.32.133\n",
            "Connecting to raw.githubusercontent.com (raw.githubusercontent.com)|151.101.32.133|:443... connected.\n",
            "HTTP request sent, awaiting response... 200 OK\n",
            "Length: 66230 (65K) [text/plain]\n",
            "Saving to: ‘epl_2001.csv’\n",
            "\n",
            "epl_2001.csv        100%[===================>]  64.68K  --.-KB/s    in 0.03s   \n",
            "\n",
            "2018-03-01 01:08:50 (2.17 MB/s) - ‘epl_2001.csv’ saved [66230/66230]\n",
            "\n",
            "--2018-03-01 01:08:51--  https://raw.githubusercontent.com/samgottuso/first_attempt_machine_learning_predicting_upsets/master/epl_2002.csv\n",
            "Resolving raw.githubusercontent.com (raw.githubusercontent.com)... 151.101.32.133\n",
            "Connecting to raw.githubusercontent.com (raw.githubusercontent.com)|151.101.32.133|:443... connected.\n",
            "HTTP request sent, awaiting response... 200 OK\n",
            "Length: 70309 (69K) [text/plain]\n",
            "Saving to: ‘epl_2002.csv’\n",
            "\n",
            "epl_2002.csv        100%[===================>]  68.66K  --.-KB/s    in 0.03s   \n",
            "\n",
            "2018-03-01 01:08:51 (2.39 MB/s) - ‘epl_2002.csv’ saved [70309/70309]\n",
            "\n"
          ],
          "name": "stdout"
        }
      ]
    },
    {
      "metadata": {
        "id": "8S_junCQs2__",
        "colab_type": "code",
        "colab": {
          "autoexec": {
            "startup": false,
            "wait_interval": 0
          },
          "output_extras": [
            {
              "item_id": 4
            }
          ],
          "base_uri": "https://localhost:8080/",
          "height": 173
        },
        "outputId": "251f1ca6-42c4-47df-bee6-d8a2931fdf42",
        "executionInfo": {
          "status": "ok",
          "timestamp": 1519866509215,
          "user_tz": 300,
          "elapsed": 2634,
          "user": {
            "displayName": "Sam Gottuso",
            "photoUrl": "https://lh3.googleusercontent.com/a/default-user=s128",
            "userId": "100314253426387371036"
          }
        }
      },
      "cell_type": "code",
      "source": [
        "# Downloading and intstalling keras\n",
        "!pip install keras"
      ],
      "execution_count": 2,
      "outputs": [
        {
          "output_type": "stream",
          "text": [
            "Collecting keras\n",
            "  Downloading Keras-2.1.4-py2.py3-none-any.whl (322kB)\n",
            "\u001b[K    100% |████████████████████████████████| 327kB 2.4MB/s \n",
            "\u001b[?25hRequirement already satisfied: numpy>=1.9.1 in /usr/local/lib/python3.6/dist-packages (from keras)\n",
            "Requirement already satisfied: six>=1.9.0 in /usr/local/lib/python3.6/dist-packages (from keras)\n",
            "Requirement already satisfied: scipy>=0.14 in /usr/local/lib/python3.6/dist-packages (from keras)\n",
            "Requirement already satisfied: pyyaml in /usr/local/lib/python3.6/dist-packages (from keras)\n",
            "Installing collected packages: keras\n",
            "Successfully installed keras-2.1.4\n"
          ],
          "name": "stdout"
        }
      ]
    },
    {
      "metadata": {
        "id": "H3RiwCIqs6dr",
        "colab_type": "code",
        "colab": {
          "autoexec": {
            "startup": false,
            "wait_interval": 0
          },
          "output_extras": [
            {
              "item_id": 1
            }
          ],
          "base_uri": "https://localhost:8080/",
          "height": 89
        },
        "outputId": "36055300-feae-4677-acb8-9e15c7336458",
        "executionInfo": {
          "status": "ok",
          "timestamp": 1519866536541,
          "user_tz": 300,
          "elapsed": 435,
          "user": {
            "displayName": "Sam Gottuso",
            "photoUrl": "https://lh3.googleusercontent.com/a/default-user=s128",
            "userId": "100314253426387371036"
          }
        }
      },
      "cell_type": "code",
      "source": [
        "import numpy as np\n",
        "import pandas as pd\n",
        "import matplotlib.pyplot as plt\n",
        "import seaborn as sns\n",
        "\n",
        "S_0=pd.read_csv('epl_2000.csv', error_bad_lines=False)\n",
        "S_1=pd.read_csv('epl_2001.csv',error_bad_lines=False)\n",
        "S_2=pd.read_csv('epl_2002.csv',error_bad_lines=False)\n",
        "S_3=pd.read_csv('EPL_data/epl_2003.csv', error_bad_lines=False)\n",
        "S_4=pd.read_csv('EPL_data/epl_2004.csv', error_bad_lines=False)\n",
        "S_5=pd.read_csv('EPL_data/epl_2005.csv', error_bad_lines=False)\n",
        "S_6=pd.read_csv('EPL_data/epl_2006.csv', error_bad_lines=False)\n",
        "S_7=pd.read_csv('EPL_data/epl_2007.csv', error_bad_lines=False)\n",
        "S_8=pd.read_csv('EPL_data/epl_2008.csv', error_bad_lines=False)\n",
        "S_9=pd.read_csv('EPL_data/epl_2009.csv', error_bad_lines=False)\n",
        "S_10=pd.read_csv('EPL_data/epl_2010.csv', error_bad_lines=False)\n",
        "S_11=pd.read_csv('EPL_data/epl_2011.csv', error_bad_lines=False)\n",
        "S_12=pd.read_csv('EPL_data/epl_2012.csv', error_bad_lines=False)\n",
        "S_13=pd.read_csv('EPL_data/epl_2013.csv', error_bad_lines=False)\n",
        "S_14=pd.read_csv('EPL_data/epl_2014.csv', error_bad_lines=False)\n",
        "S_15=pd.read_csv('EPL_data/epl_2015.csv', error_bad_lines=False)\n",
        "S_16=pd .read_csv('EPL_data/epl_2016.csv', error_bad_lines=False)\n",
        "S_17=pd.read_csv('EPL_data/epl_2017.csv', error_bad_lines=False)"
      ],
      "execution_count": 6,
      "outputs": [
        {
          "output_type": "stream",
          "text": [
            "b'Skipping line 257: expected 48 fields, saw 49\\nSkipping line 258: expected 48 fields, saw 49\\nSkipping line 259: expected 48 fields, saw 49\\nSkipping line 260: expected 48 fields, saw 49\\nSkipping line 261: expected 48 fields, saw 49\\nSkipping line 262: expected 48 fields, saw 49\\nSkipping line 263: expected 48 fields, saw 49\\nSkipping line 264: expected 48 fields, saw 49\\nSkipping line 265: expected 48 fields, saw 49\\nSkipping line 266: expected 48 fields, saw 49\\nSkipping line 267: expected 48 fields, saw 49\\nSkipping line 268: expected 48 fields, saw 49\\nSkipping line 269: expected 48 fields, saw 49\\nSkipping line 270: expected 48 fields, saw 49\\nSkipping line 271: expected 48 fields, saw 49\\nSkipping line 272: expected 48 fields, saw 49\\nSkipping line 273: expected 48 fields, saw 51\\nSkipping line 274: expected 48 fields, saw 51\\nSkipping line 275: expected 48 fields, saw 51\\nSkipping line 276: expected 48 fields, saw 51\\nSkipping line 277: expected 48 fields, saw 51\\nSkipping line 278: expected 48 fields, saw 51\\nSkipping line 279: expected 48 fields, saw 51\\nSkipping line 280: expected 48 fields, saw 51\\nSkipping line 281: expected 48 fields, saw 51\\nSkipping line 282: expected 48 fields, saw 51\\nSkipping line 283: expected 48 fields, saw 51\\nSkipping line 284: expected 48 fields, saw 51\\nSkipping line 285: expected 48 fields, saw 51\\nSkipping line 286: expected 48 fields, saw 51\\nSkipping line 287: expected 48 fields, saw 51\\nSkipping line 288: expected 48 fields, saw 51\\nSkipping line 321: expected 48 fields, saw 49\\nSkipping line 322: expected 48 fields, saw 49\\nSkipping line 323: expected 48 fields, saw 49\\nSkipping line 324: expected 48 fields, saw 49\\nSkipping line 325: expected 48 fields, saw 49\\nSkipping line 326: expected 48 fields, saw 49\\nSkipping line 327: expected 48 fields, saw 49\\nSkipping line 328: expected 48 fields, saw 49\\nSkipping line 329: expected 48 fields, saw 49\\nSkipping line 330: expected 48 fields, saw 49\\nSkipping line 331: expected 48 fields, saw 49\\nSkipping line 332: expected 48 fields, saw 49\\nSkipping line 333: expected 48 fields, saw 49\\nSkipping line 334: expected 48 fields, saw 49\\nSkipping line 335: expected 48 fields, saw 49\\nSkipping line 336: expected 48 fields, saw 49\\nSkipping line 337: expected 48 fields, saw 53\\nSkipping line 338: expected 48 fields, saw 53\\nSkipping line 339: expected 48 fields, saw 53\\nSkipping line 340: expected 48 fields, saw 53\\nSkipping line 341: expected 48 fields, saw 53\\nSkipping line 342: expected 48 fields, saw 53\\nSkipping line 343: expected 48 fields, saw 53\\nSkipping line 344: expected 48 fields, saw 53\\nSkipping line 345: expected 48 fields, saw 53\\nSkipping line 346: expected 48 fields, saw 53\\nSkipping line 347: expected 48 fields, saw 53\\nSkipping line 348: expected 48 fields, saw 53\\nSkipping line 349: expected 48 fields, saw 53\\nSkipping line 350: expected 48 fields, saw 53\\nSkipping line 351: expected 48 fields, saw 53\\nSkipping line 352: expected 48 fields, saw 53\\n'\n",
            "b'Skipping line 305: expected 57 fields, saw 72\\nSkipping line 306: expected 57 fields, saw 72\\nSkipping line 307: expected 57 fields, saw 72\\nSkipping line 308: expected 57 fields, saw 72\\nSkipping line 309: expected 57 fields, saw 72\\nSkipping line 310: expected 57 fields, saw 72\\nSkipping line 311: expected 57 fields, saw 72\\nSkipping line 312: expected 57 fields, saw 72\\nSkipping line 313: expected 57 fields, saw 72\\nSkipping line 314: expected 57 fields, saw 72\\nSkipping line 315: expected 57 fields, saw 72\\nSkipping line 316: expected 57 fields, saw 72\\nSkipping line 317: expected 57 fields, saw 72\\nSkipping line 318: expected 57 fields, saw 72\\nSkipping line 319: expected 57 fields, saw 72\\nSkipping line 320: expected 57 fields, saw 72\\nSkipping line 321: expected 57 fields, saw 72\\nSkipping line 322: expected 57 fields, saw 72\\nSkipping line 323: expected 57 fields, saw 72\\nSkipping line 324: expected 57 fields, saw 72\\nSkipping line 325: expected 57 fields, saw 72\\nSkipping line 326: expected 57 fields, saw 72\\nSkipping line 327: expected 57 fields, saw 72\\nSkipping line 328: expected 57 fields, saw 72\\nSkipping line 329: expected 57 fields, saw 72\\nSkipping line 330: expected 57 fields, saw 72\\nSkipping line 331: expected 57 fields, saw 72\\nSkipping line 332: expected 57 fields, saw 72\\nSkipping line 333: expected 57 fields, saw 72\\nSkipping line 334: expected 57 fields, saw 72\\nSkipping line 335: expected 57 fields, saw 72\\nSkipping line 336: expected 57 fields, saw 72\\nSkipping line 369: expected 57 fields, saw 62\\nSkipping line 370: expected 57 fields, saw 62\\nSkipping line 371: expected 57 fields, saw 62\\nSkipping line 372: expected 57 fields, saw 62\\nSkipping line 373: expected 57 fields, saw 62\\nSkipping line 374: expected 57 fields, saw 62\\nSkipping line 375: expected 57 fields, saw 62\\nSkipping line 376: expected 57 fields, saw 62\\nSkipping line 377: expected 57 fields, saw 62\\nSkipping line 378: expected 57 fields, saw 62\\nSkipping line 379: expected 57 fields, saw 62\\nSkipping line 380: expected 57 fields, saw 62\\nSkipping line 381: expected 57 fields, saw 62\\n'\n",
            "b'Skipping line 337: expected 57 fields, saw 62\\nSkipping line 338: expected 57 fields, saw 62\\nSkipping line 339: expected 57 fields, saw 62\\nSkipping line 340: expected 57 fields, saw 62\\nSkipping line 341: expected 57 fields, saw 62\\nSkipping line 342: expected 57 fields, saw 62\\nSkipping line 343: expected 57 fields, saw 62\\nSkipping line 344: expected 57 fields, saw 62\\nSkipping line 345: expected 57 fields, saw 62\\nSkipping line 346: expected 57 fields, saw 62\\nSkipping line 347: expected 57 fields, saw 62\\nSkipping line 348: expected 57 fields, saw 62\\nSkipping line 349: expected 57 fields, saw 62\\nSkipping line 350: expected 57 fields, saw 62\\nSkipping line 351: expected 57 fields, saw 62\\nSkipping line 352: expected 57 fields, saw 62\\nSkipping line 353: expected 57 fields, saw 62\\nSkipping line 354: expected 57 fields, saw 62\\nSkipping line 355: expected 57 fields, saw 62\\nSkipping line 356: expected 57 fields, saw 62\\nSkipping line 357: expected 57 fields, saw 62\\nSkipping line 358: expected 57 fields, saw 62\\nSkipping line 359: expected 57 fields, saw 62\\nSkipping line 360: expected 57 fields, saw 62\\nSkipping line 361: expected 57 fields, saw 62\\nSkipping line 362: expected 57 fields, saw 62\\nSkipping line 363: expected 57 fields, saw 62\\nSkipping line 364: expected 57 fields, saw 62\\nSkipping line 365: expected 57 fields, saw 62\\nSkipping line 366: expected 57 fields, saw 62\\nSkipping line 367: expected 57 fields, saw 62\\nSkipping line 368: expected 57 fields, saw 62\\nSkipping line 369: expected 57 fields, saw 62\\nSkipping line 370: expected 57 fields, saw 62\\nSkipping line 371: expected 57 fields, saw 62\\nSkipping line 372: expected 57 fields, saw 62\\nSkipping line 373: expected 57 fields, saw 62\\nSkipping line 374: expected 57 fields, saw 62\\nSkipping line 375: expected 57 fields, saw 62\\nSkipping line 376: expected 57 fields, saw 62\\nSkipping line 377: expected 57 fields, saw 62\\nSkipping line 378: expected 57 fields, saw 62\\nSkipping line 379: expected 57 fields, saw 62\\nSkipping line 380: expected 57 fields, saw 62\\nSkipping line 381: expected 57 fields, saw 62\\n'\n"
          ],
          "name": "stderr"
        }
      ]
    },
    {
      "metadata": {
        "id": "O3_FYKAct0UT",
        "colab_type": "code",
        "colab": {
          "autoexec": {
            "startup": false,
            "wait_interval": 0
          },
          "output_extras": [
            {
              "item_id": 1
            }
          ],
          "base_uri": "https://localhost:8080/",
          "height": 34
        },
        "outputId": "b7427a5b-add8-41c7-92f0-831132339e85",
        "executionInfo": {
          "status": "ok",
          "timestamp": 1519866541690,
          "user_tz": 300,
          "elapsed": 290,
          "user": {
            "displayName": "Sam Gottuso",
            "photoUrl": "https://lh3.googleusercontent.com/a/default-user=s128",
            "userId": "100314253426387371036"
          }
        }
      },
      "cell_type": "code",
      "source": [
        "#This allows us to merge the data together into 1 data source-- see that we are working with 6687 games (Bigger data set than the last time I ran through this)\n",
        "\n",
        "data_names=[S_0,S_1,S_2,S_3,S_4,S_5,S_6,S_7,S_8,S_9,S_10,S_11,S_12,S_13,S_14,S_15,S_16,S_17]\n",
        "\n",
        "merged_data=pd.concat(data_names,ignore_index=True,join='inner')\n",
        "\n",
        "merged_data.dtypes\n",
        "\n",
        "\n",
        "\n",
        "\n",
        "len(merged_data)"
      ],
      "execution_count": 7,
      "outputs": [
        {
          "output_type": "execute_result",
          "data": {
            "text/plain": [
              "6687"
            ]
          },
          "metadata": {
            "tags": []
          },
          "execution_count": 7
        }
      ]
    },
    {
      "metadata": {
        "id": "REskjm_GD1Ly",
        "colab_type": "code",
        "colab": {
          "autoexec": {
            "startup": false,
            "wait_interval": 0
          }
        }
      },
      "cell_type": "code",
      "source": [
        "#This cell adds what the Sports books picks were and whether or not it was an upset (not the same as what the sport books predicted)\n",
        "\n",
        "setup_data=merged_data\n",
        "setup_data['pick']=''\n",
        "setup_data['upset']=int\n",
        "\n",
        "\n",
        "ft_col=['Date','HomeTeam','AwayTeam','FTHG','FTAG','FTR','HS','AS','HST','AST','HF','AF','HY','AY','pick','upset','WHH','WHD','WHA']\n",
        "setup_data_ft=setup_data[ft_col]"
      ],
      "execution_count": 0,
      "outputs": []
    },
    {
      "metadata": {
        "id": "NkUagaZ6G09T",
        "colab_type": "code",
        "colab": {
          "autoexec": {
            "startup": false,
            "wait_interval": 0
          },
          "output_extras": [
            {
              "item_id": 1
            }
          ],
          "base_uri": "https://localhost:8080/",
          "height": 208
        },
        "outputId": "b993c504-9cc9-4d60-c3a0-fa52a656bfc5",
        "executionInfo": {
          "status": "ok",
          "timestamp": 1519866588842,
          "user_tz": 300,
          "elapsed": 505,
          "user": {
            "displayName": "Sam Gottuso",
            "photoUrl": "https://lh3.googleusercontent.com/a/default-user=s128",
            "userId": "100314253426387371036"
          }
        }
      },
      "cell_type": "code",
      "source": [
        "setup_data_ft['Date'].head(10)"
      ],
      "execution_count": 10,
      "outputs": [
        {
          "output_type": "execute_result",
          "data": {
            "text/plain": [
              "0    19/08/00\n",
              "1    19/08/00\n",
              "2    19/08/00\n",
              "3    19/08/00\n",
              "4    19/08/00\n",
              "5    19/08/00\n",
              "6    19/08/00\n",
              "7    19/08/00\n",
              "8    19/08/00\n",
              "9    20/08/00\n",
              "Name: Date, dtype: object"
            ]
          },
          "metadata": {
            "tags": []
          },
          "execution_count": 10
        }
      ]
    },
    {
      "metadata": {
        "id": "heJjYDxp9ybT",
        "colab_type": "code",
        "colab": {
          "autoexec": {
            "startup": false,
            "wait_interval": 0
          },
          "output_extras": [
            {
              "item_id": 1
            },
            {
              "item_id": 2
            }
          ],
          "base_uri": "https://localhost:8080/",
          "height": 364
        },
        "outputId": "95a28c15-c971-4a67-b1c6-765cf320010c",
        "executionInfo": {
          "status": "ok",
          "timestamp": 1519866737066,
          "user_tz": 300,
          "elapsed": 25874,
          "user": {
            "displayName": "Sam Gottuso",
            "photoUrl": "https://lh3.googleusercontent.com/a/default-user=s128",
            "userId": "100314253426387371036"
          }
        }
      },
      "cell_type": "code",
      "source": [
        "#We have 115 games that are missing WH data\n",
        "setup_data_no_NA_ft=setup_data_ft.dropna()\n",
        "\n",
        "print(len(setup_data_ft)-len(setup_data_no_NA_ft))\n",
        "\n",
        "#This would get rid of 115 games... is there anyway we can impute missing values?\n",
        "\n",
        "setup_data_NA=setup_data_ft[setup_data_ft.isnull().any(axis=1)]\n",
        "\n",
        "setup_data_NA\n",
        "\n",
        "\n",
        "#Maybe use GBH/GBA/GBD?\n",
        "row_list=[]\n",
        "for row in setup_data_NA.index:\n",
        "  setup_data_ft['WHH'][row]=setup_data['LBH'][row]\n",
        "  setup_data_ft['WHA'][row]=setup_data['LBA'][row]\n",
        "  setup_data_ft['WHD'][row]=setup_data['LBD'][row]\n",
        " \n",
        "\n",
        "\n",
        "\n"
      ],
      "execution_count": 11,
      "outputs": [
        {
          "output_type": "stream",
          "text": [
            "115\n"
          ],
          "name": "stdout"
        },
        {
          "output_type": "stream",
          "text": [
            "/usr/local/lib/python3.6/dist-packages/ipykernel_launcher.py:15: SettingWithCopyWarning: \n",
            "A value is trying to be set on a copy of a slice from a DataFrame\n",
            "\n",
            "See the caveats in the documentation: http://pandas.pydata.org/pandas-docs/stable/indexing.html#indexing-view-versus-copy\n",
            "  from ipykernel import kernelapp as app\n",
            "/usr/local/lib/python3.6/dist-packages/IPython/core/interactiveshell.py:2882: SettingWithCopyWarning: \n",
            "A value is trying to be set on a copy of a slice from a DataFrame\n",
            "\n",
            "See the caveats in the documentation: http://pandas.pydata.org/pandas-docs/stable/indexing.html#indexing-view-versus-copy\n",
            "  exec(code_obj, self.user_global_ns, self.user_ns)\n",
            "/usr/local/lib/python3.6/dist-packages/ipykernel_launcher.py:16: SettingWithCopyWarning: \n",
            "A value is trying to be set on a copy of a slice from a DataFrame\n",
            "\n",
            "See the caveats in the documentation: http://pandas.pydata.org/pandas-docs/stable/indexing.html#indexing-view-versus-copy\n",
            "  app.launch_new_instance()\n",
            "/usr/local/lib/python3.6/dist-packages/ipykernel_launcher.py:17: SettingWithCopyWarning: \n",
            "A value is trying to be set on a copy of a slice from a DataFrame\n",
            "\n",
            "See the caveats in the documentation: http://pandas.pydata.org/pandas-docs/stable/indexing.html#indexing-view-versus-copy\n"
          ],
          "name": "stderr"
        }
      ]
    },
    {
      "metadata": {
        "id": "8XzHbY7jvtGG",
        "colab_type": "code",
        "colab": {
          "autoexec": {
            "startup": false,
            "wait_interval": 0
          },
          "output_extras": [
            {
              "item_id": 2
            }
          ],
          "base_uri": "https://localhost:8080/",
          "height": 208
        },
        "outputId": "64d522cd-08ae-4dc2-8692-33adae047b8a",
        "executionInfo": {
          "status": "ok",
          "timestamp": 1519866738082,
          "user_tz": 300,
          "elapsed": 840,
          "user": {
            "displayName": "Sam Gottuso",
            "photoUrl": "https://lh3.googleusercontent.com/a/default-user=s128",
            "userId": "100314253426387371036"
          }
        }
      },
      "cell_type": "code",
      "source": [
        "\n",
        "\n",
        "##Initial data cleaning and addition of columns-- this function adds both what William picked for the game (with the lowest odds) and whether the actual result matched that\n",
        "##Changed from Bet 365 to William Hill to include more data--except for the replaced values in the earlier cell\n",
        "\n",
        "##New Faster way to assign using df.apply\n",
        "pick=''\n",
        "def odds_pick(row):\n",
        "  home= row['WHH']\n",
        "  away= row['WHA']\n",
        "  draw= row['WHD']\n",
        "  min_odds=min(home,away,draw)\n",
        "  if min_odds == home:\n",
        "    pick='H'\n",
        "  elif min_odds == away:\n",
        "    pick='A'\n",
        "  else:\n",
        "    pick='D'\n",
        "  return pick\n",
        "\n",
        "setup_data_ft['pick']=setup_data_ft.apply(odds_pick,axis=1)\n",
        "\n",
        "def upset_pick(row):\n",
        "  if row['pick']==row['FTR']:\n",
        "    upset=1\n",
        "  else:\n",
        "    upset=0\n",
        "  return upset\n",
        "\n",
        "setup_data_ft['upset']=setup_data_ft.apply(upset_pick,axis=1)\n"
      ],
      "execution_count": 12,
      "outputs": [
        {
          "output_type": "stream",
          "text": [
            "/usr/local/lib/python3.6/dist-packages/ipykernel_launcher.py:15: SettingWithCopyWarning: \n",
            "A value is trying to be set on a copy of a slice from a DataFrame.\n",
            "Try using .loc[row_indexer,col_indexer] = value instead\n",
            "\n",
            "See the caveats in the documentation: http://pandas.pydata.org/pandas-docs/stable/indexing.html#indexing-view-versus-copy\n",
            "  from ipykernel import kernelapp as app\n",
            "/usr/local/lib/python3.6/dist-packages/ipykernel_launcher.py:24: SettingWithCopyWarning: \n",
            "A value is trying to be set on a copy of a slice from a DataFrame.\n",
            "Try using .loc[row_indexer,col_indexer] = value instead\n",
            "\n",
            "See the caveats in the documentation: http://pandas.pydata.org/pandas-docs/stable/indexing.html#indexing-view-versus-copy\n"
          ],
          "name": "stderr"
        }
      ]
    },
    {
      "metadata": {
        "id": "ScPvm3gv9Xsn",
        "colab_type": "code",
        "colab": {
          "autoexec": {
            "startup": false,
            "wait_interval": 0
          },
          "output_extras": [
            {
              "item_id": 1
            },
            {
              "item_id": 2
            }
          ],
          "base_uri": "https://localhost:8080/",
          "height": 1404
        },
        "outputId": "f0223b81-a36d-4069-b43c-1d7369330e34",
        "executionInfo": {
          "status": "ok",
          "timestamp": 1519867957303,
          "user_tz": 300,
          "elapsed": 387,
          "user": {
            "displayName": "Sam Gottuso",
            "photoUrl": "https://lh3.googleusercontent.com/a/default-user=s128",
            "userId": "100314253426387371036"
          }
        }
      },
      "cell_type": "code",
      "source": [
        "##Testing the value of being at home... if the winning team was at home=2, if home team draw=1 if lost=0\n",
        "#Actually I think this gives away too much data--- need to simplify\n",
        "\n",
        "# setup_data_ft['home'] = pd.factorize(setup_data_ft['FTR'],sort=['A','D','H'])[0]\n",
        "# #Making sure everything lines up\n",
        "# print(setup_data_ft[['FTR','home']])\n",
        "\n",
        "#Instead let's look at whether the home team was favored in the match--- I would guess that this would predict less upsets.\n",
        "\n",
        "\n",
        "setup_data_ft['pick']=setup_data_ft['pick'].astype('category')\n",
        "setup_data_ft['pick']=setup_data_ft['pick'].cat.set_categories(['A','H','D'])\n",
        "setup_data_ft['favored_home']=setup_data_ft['pick'].cat.codes\n",
        "\n",
        "setup_data_ft['favored_home']"
      ],
      "execution_count": 48,
      "outputs": [
        {
          "output_type": "stream",
          "text": [
            "/usr/local/lib/python3.6/dist-packages/ipykernel_launcher.py:3: SettingWithCopyWarning: \n",
            "A value is trying to be set on a copy of a slice from a DataFrame.\n",
            "Try using .loc[row_indexer,col_indexer] = value instead\n",
            "\n",
            "See the caveats in the documentation: http://pandas.pydata.org/pandas-docs/stable/indexing.html#indexing-view-versus-copy\n",
            "  This is separate from the ipykernel package so we can avoid doing imports until\n",
            "/usr/local/lib/python3.6/dist-packages/ipykernel_launcher.py:4: SettingWithCopyWarning: \n",
            "A value is trying to be set on a copy of a slice from a DataFrame.\n",
            "Try using .loc[row_indexer,col_indexer] = value instead\n",
            "\n",
            "See the caveats in the documentation: http://pandas.pydata.org/pandas-docs/stable/indexing.html#indexing-view-versus-copy\n",
            "  after removing the cwd from sys.path.\n",
            "/usr/local/lib/python3.6/dist-packages/ipykernel_launcher.py:5: SettingWithCopyWarning: \n",
            "A value is trying to be set on a copy of a slice from a DataFrame.\n",
            "Try using .loc[row_indexer,col_indexer] = value instead\n",
            "\n",
            "See the caveats in the documentation: http://pandas.pydata.org/pandas-docs/stable/indexing.html#indexing-view-versus-copy\n",
            "  \"\"\"\n"
          ],
          "name": "stderr"
        },
        {
          "output_type": "execute_result",
          "data": {
            "text/plain": [
              "0       1\n",
              "1       1\n",
              "2       1\n",
              "3       1\n",
              "4       1\n",
              "5       1\n",
              "6       1\n",
              "7       0\n",
              "8       1\n",
              "9       1\n",
              "10      1\n",
              "11      0\n",
              "12      0\n",
              "13      1\n",
              "14      1\n",
              "15      1\n",
              "16      1\n",
              "17      1\n",
              "18      1\n",
              "19      1\n",
              "20      1\n",
              "21      1\n",
              "22      1\n",
              "23      1\n",
              "24      1\n",
              "25      1\n",
              "26      0\n",
              "27      0\n",
              "28      0\n",
              "29      1\n",
              "       ..\n",
              "6657    0\n",
              "6658    1\n",
              "6659    1\n",
              "6660    1\n",
              "6661    0\n",
              "6662    1\n",
              "6663    0\n",
              "6664    1\n",
              "6665    1\n",
              "6666    0\n",
              "6667    0\n",
              "6668    0\n",
              "6669    1\n",
              "6670    1\n",
              "6671    0\n",
              "6672    1\n",
              "6673    1\n",
              "6674    1\n",
              "6675    1\n",
              "6676    0\n",
              "6677    1\n",
              "6678    1\n",
              "6679    1\n",
              "6680    0\n",
              "6681    1\n",
              "6682    1\n",
              "6683    1\n",
              "6684    1\n",
              "6685    1\n",
              "6686    0\n",
              "Name: favored_home, Length: 6687, dtype: int8"
            ]
          },
          "metadata": {
            "tags": []
          },
          "execution_count": 48
        }
      ]
    },
    {
      "metadata": {
        "id": "paHAL2Yu9jR2",
        "colab_type": "code",
        "colab": {
          "autoexec": {
            "startup": false,
            "wait_interval": 0
          },
          "output_extras": [
            {
              "item_id": 1
            }
          ],
          "base_uri": "https://localhost:8080/",
          "height": 745
        },
        "outputId": "9fb0a9eb-8da8-4a6f-a163-c8774a422454",
        "executionInfo": {
          "status": "ok",
          "timestamp": 1519867964779,
          "user_tz": 300,
          "elapsed": 292,
          "user": {
            "displayName": "Sam Gottuso",
            "photoUrl": "https://lh3.googleusercontent.com/a/default-user=s128",
            "userId": "100314253426387371036"
          }
        }
      },
      "cell_type": "code",
      "source": [
        "#Make sure it didn't return any null values and checking object types\n",
        "\n",
        "print(pd.isnull(setup_data_ft).sum())\n",
        "print(setup_data_ft.dtypes)\n",
        "\n",
        "#so just one remaining game that is still null\n",
        "\n",
        "#Getting rid of the that one row\n",
        "\n",
        "setup_data_ft=setup_data_ft.dropna()"
      ],
      "execution_count": 49,
      "outputs": [
        {
          "output_type": "stream",
          "text": [
            "Date            1\n",
            "HomeTeam        1\n",
            "AwayTeam        1\n",
            "FTHG            1\n",
            "FTAG            1\n",
            "FTR             1\n",
            "HS              1\n",
            "AS              1\n",
            "HST             1\n",
            "AST             1\n",
            "HF              1\n",
            "AF              1\n",
            "HY              1\n",
            "AY              1\n",
            "pick            0\n",
            "upset           0\n",
            "WHH             1\n",
            "WHD             1\n",
            "WHA             1\n",
            "favored_home    0\n",
            "dtype: int64\n",
            "Date              object\n",
            "HomeTeam          object\n",
            "AwayTeam          object\n",
            "FTHG             float64\n",
            "FTAG             float64\n",
            "FTR               object\n",
            "HS               float64\n",
            "AS               float64\n",
            "HST              float64\n",
            "AST              float64\n",
            "HF               float64\n",
            "AF               float64\n",
            "HY               float64\n",
            "AY               float64\n",
            "pick            category\n",
            "upset              int64\n",
            "WHH              float64\n",
            "WHD              float64\n",
            "WHA              float64\n",
            "favored_home        int8\n",
            "dtype: object\n"
          ],
          "name": "stdout"
        }
      ]
    },
    {
      "metadata": {
        "id": "BgT4uOFnCq7O",
        "colab_type": "code",
        "colab": {
          "autoexec": {
            "startup": false,
            "wait_interval": 0
          },
          "output_extras": [
            {
              "item_id": 1
            }
          ],
          "base_uri": "https://localhost:8080/",
          "height": 468
        },
        "outputId": "79ab3bb6-36d1-4c94-eaa3-3edff85faf2c",
        "executionInfo": {
          "status": "ok",
          "timestamp": 1519867971480,
          "user_tz": 300,
          "elapsed": 284,
          "user": {
            "displayName": "Sam Gottuso",
            "photoUrl": "https://lh3.googleusercontent.com/a/default-user=s128",
            "userId": "100314253426387371036"
          }
        }
      },
      "cell_type": "code",
      "source": [
        "##Creating some other fields which will be useful for comparing games to one another\n",
        "setup_data_ft['total_shots']=setup_data_ft.HS+setup_data_ft.AS\n",
        "setup_data_ft['total_shots_on_target']=setup_data_ft.HST+setup_data_ft.AST\n",
        "setup_data_ft['total_goals']=setup_data_ft.FTHG+setup_data_ft.FTAG\n",
        "setup_data_ft['total_fouls']=setup_data_ft.HF+setup_data_ft.AF\n",
        "setup_data_ft['total_yellow']=setup_data_ft.HY+setup_data_ft.AY\n",
        "\n",
        "\n",
        "print(setup_data_ft.dtypes)\n",
        "#returns some objects that mess things up later so let's change them up\n"
      ],
      "execution_count": 50,
      "outputs": [
        {
          "output_type": "stream",
          "text": [
            "Date                       object\n",
            "HomeTeam                   object\n",
            "AwayTeam                   object\n",
            "FTHG                      float64\n",
            "FTAG                      float64\n",
            "FTR                        object\n",
            "HS                        float64\n",
            "AS                        float64\n",
            "HST                       float64\n",
            "AST                       float64\n",
            "HF                        float64\n",
            "AF                        float64\n",
            "HY                        float64\n",
            "AY                        float64\n",
            "pick                     category\n",
            "upset                       int64\n",
            "WHH                       float64\n",
            "WHD                       float64\n",
            "WHA                       float64\n",
            "favored_home                 int8\n",
            "total_shots               float64\n",
            "total_shots_on_target     float64\n",
            "total_goals               float64\n",
            "total_fouls               float64\n",
            "total_yellow              float64\n",
            "dtype: object\n"
          ],
          "name": "stdout"
        }
      ]
    },
    {
      "metadata": {
        "id": "VxivYKWUGBLV",
        "colab_type": "code",
        "colab": {
          "autoexec": {
            "startup": false,
            "wait_interval": 0
          },
          "output_extras": [
            {
              "item_id": 1
            },
            {
              "item_id": 2
            }
          ],
          "base_uri": "https://localhost:8080/",
          "height": 901
        },
        "outputId": "19163d25-b6db-40b5-df90-3e799f3c8880",
        "executionInfo": {
          "status": "ok",
          "timestamp": 1519867992258,
          "user_tz": 300,
          "elapsed": 524,
          "user": {
            "displayName": "Sam Gottuso",
            "photoUrl": "https://lh3.googleusercontent.com/a/default-user=s128",
            "userId": "100314253426387371036"
          }
        }
      },
      "cell_type": "code",
      "source": [
        "#Figuring out what's related\n",
        "\n",
        "#Break down our data further so we can do some correlations\n",
        "numerical_cols=['upset','favored_home','total_shots','total_shots_on_target','total_fouls','total_yellow','total_goals']\n",
        "numerical_data=setup_data_ft[numerical_cols]\n",
        "\n",
        "num_cor=numerical_data.corr()\n",
        "\n",
        "print(num_cor)\n",
        "print(sns.heatmap(num_cor))\n",
        "\n",
        "#looks like games where the home team is favored, and has some offense to it are more likely to be upsets"
      ],
      "execution_count": 51,
      "outputs": [
        {
          "output_type": "stream",
          "text": [
            "                          upset  favored_home  total_shots  \\\n",
            "upset                  1.000000      0.038416     0.042765   \n",
            "favored_home           0.038416      1.000000     0.014523   \n",
            "total_shots            0.042765      0.014523     1.000000   \n",
            "total_shots_on_target  0.087536      0.015121     0.574333   \n",
            "total_fouls           -0.097915      0.044246    -0.176580   \n",
            "total_yellow          -0.091033     -0.028575    -0.045623   \n",
            "total_goals            0.210502     -0.006711     0.210434   \n",
            "\n",
            "                       total_shots_on_target  total_fouls  total_yellow  \\\n",
            "upset                               0.087536    -0.097915     -0.091033   \n",
            "favored_home                        0.015121     0.044246     -0.028575   \n",
            "total_shots                         0.574333    -0.176580     -0.045623   \n",
            "total_shots_on_target               1.000000    -0.056509     -0.057149   \n",
            "total_fouls                        -0.056509     1.000000      0.357452   \n",
            "total_yellow                       -0.057149     0.357452      1.000000   \n",
            "total_goals                         0.340012    -0.064179     -0.012254   \n",
            "\n",
            "                       total_goals  \n",
            "upset                     0.210502  \n",
            "favored_home             -0.006711  \n",
            "total_shots               0.210434  \n",
            "total_shots_on_target     0.340012  \n",
            "total_fouls              -0.064179  \n",
            "total_yellow             -0.012254  \n",
            "total_goals               1.000000  \n",
            "AxesSubplot(0.125,0.125;0.62x0.755)\n"
          ],
          "name": "stdout"
        },
        {
          "output_type": "display_data",
          "data": {
            "image/png": "[encoded data removed]",
            "text/plain": [
              "<matplotlib.figure.Figure at 0x7f5d85dc40f0>"
            ]
          },
          "metadata": {
            "tags": []
          }
        }
      ]
    },
    {
      "metadata": {
        "id": "4Tj3Nyc3GTZQ",
        "colab_type": "code",
        "colab": {
          "autoexec": {
            "startup": false,
            "wait_interval": 0
          },
          "output_extras": [
            {
              "item_id": 1
            },
            {
              "item_id": 2
            }
          ],
          "base_uri": "https://localhost:8080/",
          "height": 378
        },
        "outputId": "dede70bd-b46f-4e59-f155-6265ccf07aa7",
        "executionInfo": {
          "status": "ok",
          "timestamp": 1519868060730,
          "user_tz": 300,
          "elapsed": 560,
          "user": {
            "displayName": "Sam Gottuso",
            "photoUrl": "https://lh3.googleusercontent.com/a/default-user=s128",
            "userId": "100314253426387371036"
          }
        }
      },
      "cell_type": "code",
      "source": [
        "#Making the pivot table\n",
        "\n",
        "ft_pt=['total_shots','total_shots_on_target','total_fouls','total_yellow','total_goals']\n",
        "\n",
        "piv=pd.pivot_table(numerical_data,columns=['upset'])\n",
        "\n",
        "print(sns.heatmap(piv,annot=True,cmap='Reds'))\n",
        "\n",
        "#looks like upsets are slightly more likely to have more goals, fewer fouls, more shots and to be when the home team is the underdog"
      ],
      "execution_count": 52,
      "outputs": [
        {
          "output_type": "stream",
          "text": [
            "AxesSubplot(0.125,0.125;0.62x0.755)\n"
          ],
          "name": "stdout"
        },
        {
          "output_type": "display_data",
          "data": {
            "image/png": "[encoded data removed]",
            "text/plain": [
              "<matplotlib.figure.Figure at 0x7f5d82300a20>"
            ]
          },
          "metadata": {
            "tags": []
          }
        }
      ]
    },
    {
      "metadata": {
        "id": "yMiF2G48Gx5w",
        "colab_type": "code",
        "colab": {
          "autoexec": {
            "startup": false,
            "wait_interval": 0
          },
          "output_extras": [
            {
              "item_id": 1
            }
          ],
          "base_uri": "https://localhost:8080/",
          "height": 34
        },
        "outputId": "811e4c53-6804-48e9-857f-79a81bd379b7",
        "executionInfo": {
          "status": "ok",
          "timestamp": 1519868081622,
          "user_tz": 300,
          "elapsed": 426,
          "user": {
            "displayName": "Sam Gottuso",
            "photoUrl": "https://lh3.googleusercontent.com/a/default-user=s128",
            "userId": "100314253426387371036"
          }
        }
      },
      "cell_type": "code",
      "source": [
        "#First model-- using logistic regression for classification with all of our factors\n",
        "from sklearn import linear_model, model_selection\n",
        "from sklearn.linear_model import LogisticRegression\n",
        "lr_1=LogisticRegression()\n",
        "\n",
        "ft_model=['favored_home','total_shots','total_shots_on_target','total_fouls','total_yellow','total_goals']\n",
        "\n",
        "X_df=setup_data_ft[ft_model]\n",
        "\n",
        "y_df=setup_data_ft['upset']\n",
        "\n",
        "X=np.array(setup_data_ft[ft_model])\n",
        "y=np.array(setup_data_ft['upset'].astype(str))\n",
        "\n",
        "\n",
        "X_train,X_test,y_train,y_test=model_selection.train_test_split(X,y,random_state=8)\n",
        "\n",
        "log1=linear_model.LogisticRegression(C=1e9).fit(X_train,y_train)\n",
        "\n",
        "\n",
        "print(log1.score(X_test,y_test))\n",
        "\n"
      ],
      "execution_count": 53,
      "outputs": [
        {
          "output_type": "stream",
          "text": [
            "0.5933014354066986\n"
          ],
          "name": "stdout"
        }
      ]
    },
    {
      "metadata": {
        "id": "ozk1gS3fP82P",
        "colab_type": "code",
        "colab": {
          "autoexec": {
            "startup": false,
            "wait_interval": 0
          },
          "output_extras": [
            {
              "item_id": 1
            }
          ],
          "base_uri": "https://localhost:8080/",
          "height": 232
        },
        "outputId": "47c888ca-6b81-42c6-a01e-d6576979c497",
        "executionInfo": {
          "status": "ok",
          "timestamp": 1519868086652,
          "user_tz": 300,
          "elapsed": 260,
          "user": {
            "displayName": "Sam Gottuso",
            "photoUrl": "https://lh3.googleusercontent.com/a/default-user=s128",
            "userId": "100314253426387371036"
          }
        }
      },
      "cell_type": "code",
      "source": [
        "#How were our factors weighted?\n",
        "\n",
        "pd.DataFrame(list(zip(X_df.columns, np.transpose(log1.coef_))))"
      ],
      "execution_count": 54,
      "outputs": [
        {
          "output_type": "execute_result",
          "data": {
            "text/html": [
              "<div>\n",
              "<style scoped>\n",
              "    .dataframe tbody tr th:only-of-type {\n",
              "        vertical-align: middle;\n",
              "    }\n",
              "\n",
              "    .dataframe tbody tr th {\n",
              "        vertical-align: top;\n",
              "    }\n",
              "\n",
              "    .dataframe thead th {\n",
              "        text-align: right;\n",
              "    }\n",
              "</style>\n",
              "<table border=\"1\" class=\"dataframe\">\n",
              "  <thead>\n",
              "    <tr style=\"text-align: right;\">\n",
              "      <th></th>\n",
              "      <th>0</th>\n",
              "      <th>1</th>\n",
              "    </tr>\n",
              "  </thead>\n",
              "  <tbody>\n",
              "    <tr>\n",
              "      <th>0</th>\n",
              "      <td>favored_home</td>\n",
              "      <td>[0.18487473728688025]</td>\n",
              "    </tr>\n",
              "    <tr>\n",
              "      <th>1</th>\n",
              "      <td>total_shots</td>\n",
              "      <td>[-0.008651025519841158]</td>\n",
              "    </tr>\n",
              "    <tr>\n",
              "      <th>2</th>\n",
              "      <td>total_shots_on_target</td>\n",
              "      <td>[0.009758948585922507]</td>\n",
              "    </tr>\n",
              "    <tr>\n",
              "      <th>3</th>\n",
              "      <td>total_fouls</td>\n",
              "      <td>[-0.021695403214246074]</td>\n",
              "    </tr>\n",
              "    <tr>\n",
              "      <th>4</th>\n",
              "      <td>total_yellow</td>\n",
              "      <td>[-0.08698259675713454]</td>\n",
              "    </tr>\n",
              "    <tr>\n",
              "      <th>5</th>\n",
              "      <td>total_goals</td>\n",
              "      <td>[0.26406984954249707]</td>\n",
              "    </tr>\n",
              "  </tbody>\n",
              "</table>\n",
              "</div>"
            ],
            "text/plain": [
              "                       0                        1\n",
              "0           favored_home    [0.18487473728688025]\n",
              "1            total_shots  [-0.008651025519841158]\n",
              "2  total_shots_on_target   [0.009758948585922507]\n",
              "3            total_fouls  [-0.021695403214246074]\n",
              "4           total_yellow   [-0.08698259675713454]\n",
              "5            total_goals    [0.26406984954249707]"
            ]
          },
          "metadata": {
            "tags": []
          },
          "execution_count": 54
        }
      ]
    },
    {
      "metadata": {
        "id": "Vlg4fHDSNj50",
        "colab_type": "code",
        "colab": {
          "autoexec": {
            "startup": false,
            "wait_interval": 0
          },
          "output_extras": [
            {
              "item_id": 1
            }
          ],
          "base_uri": "https://localhost:8080/",
          "height": 34
        },
        "outputId": "7d31b58f-5935-4762-f214-6839246ea72e",
        "executionInfo": {
          "status": "ok",
          "timestamp": 1519868092410,
          "user_tz": 300,
          "elapsed": 310,
          "user": {
            "displayName": "Sam Gottuso",
            "photoUrl": "https://lh3.googleusercontent.com/a/default-user=s128",
            "userId": "100314253426387371036"
          }
        }
      },
      "cell_type": "code",
      "source": [
        "#What if we just look at offensive categories?\n",
        "\n",
        "lr_O=LogisticRegression()\n",
        "offense_list=['total_shots','total_goals']\n",
        "X_O_df=setup_data_ft[offense_list]\n",
        "y_O_df=setup_data_ft['upset']\n",
        "\n",
        "X_O=np.array(X_O_df)\n",
        "y_O=np.array(y_O_df)\n",
        "\n",
        "X_O_train,X_O_test,y_O_train,y_O_test=model_selection.train_test_split(X_O,y_O,random_state=8)\n",
        "\n",
        "logO=lr_O.fit(X_O_train,y_O_train)\n",
        "\n",
        "print(logO.score(X_O_test,y_O_test))\n",
        "\n",
        "##Slightly slightly better\n"
      ],
      "execution_count": 55,
      "outputs": [
        {
          "output_type": "stream",
          "text": [
            "0.6106459330143541\n"
          ],
          "name": "stdout"
        }
      ]
    },
    {
      "metadata": {
        "id": "jU2uhrtfJl3p",
        "colab_type": "code",
        "colab": {
          "autoexec": {
            "startup": false,
            "wait_interval": 0
          },
          "output_extras": [
            {
              "item_id": 1
            }
          ],
          "base_uri": "https://localhost:8080/",
          "height": 208
        },
        "outputId": "efc740c4-8bbe-46d1-c5f0-2c0ba9ab236a",
        "executionInfo": {
          "status": "ok",
          "timestamp": 1519868107180,
          "user_tz": 300,
          "elapsed": 2313,
          "user": {
            "displayName": "Sam Gottuso",
            "photoUrl": "https://lh3.googleusercontent.com/a/default-user=s128",
            "userId": "100314253426387371036"
          }
        }
      },
      "cell_type": "code",
      "source": [
        "#Color Plot taken from http://scikit-learn.org/stable/auto_examples/linear_model/plot_iris_logistic.html\n",
        "h=.02\n",
        "x_min, x_max = X_O[:, 0].min() - .5, X_O[:, 0].max() + .5\n",
        "y_min, y_max = X_O[:, 1].min() - .5, X_O[:, 1].max() + .5\n",
        "xx, yy = np.meshgrid(np.arange(x_min, x_max, h), np.arange(y_min, y_max, h))\n",
        "Z = logO.predict(np.c_[xx.ravel(), yy.ravel()])\n",
        "\n",
        "# Put the result into a color plot\n",
        "Z = Z.reshape(xx.shape)\n",
        "plt.figure(1, figsize=(4, 3))\n",
        "plt.pcolormesh(xx, yy, Z, cmap=plt.cm.Paired)\n",
        "\n",
        "plt.scatter(X_O[:, 0], X_O[:, 1], c=y_O, edgecolors='k', cmap=plt.cm.Paired)\n",
        "plt.xlabel('Total_Shots')\n",
        "plt.ylabel('Total_Goals')\n",
        "\n",
        "plt.xlim(xx.min(), xx.max())\n",
        "plt.ylim(yy.min(), yy.max())\n",
        "plt.xticks(())\n",
        "plt.yticks(())\n",
        "\n",
        "plt.show()\n",
        "\n",
        "#Not super helpful, but really shows that total goals were slightly stronger"
      ],
      "execution_count": 56,
      "outputs": [
        {
          "output_type": "display_data",
          "data": {
            "image/png": "[encoded data removed]",
            "text/plain": [
              "<matplotlib.figure.Figure at 0x7f5d7d11f9b0>"
            ]
          },
          "metadata": {
            "tags": []
          }
        }
      ]
    },
    {
      "metadata": {
        "id": "IVtlFdMfP2hv",
        "colab_type": "code",
        "colab": {
          "autoexec": {
            "startup": false,
            "wait_interval": 0
          },
          "output_extras": [
            {
              "item_id": 1
            }
          ],
          "base_uri": "https://localhost:8080/",
          "height": 361
        },
        "outputId": "4a6ad988-fac6-4b2c-88cb-5875cee82041",
        "executionInfo": {
          "status": "ok",
          "timestamp": 1519869615089,
          "user_tz": 300,
          "elapsed": 6087,
          "user": {
            "displayName": "Sam Gottuso",
            "photoUrl": "https://lh3.googleusercontent.com/a/default-user=s128",
            "userId": "100314253426387371036"
          }
        }
      },
      "cell_type": "code",
      "source": [
        "#KNN Model\n",
        "\n",
        "from sklearn import neighbors\n",
        "\n",
        "scores = []\n",
        "for k in range(1,100):\n",
        "    knn = neighbors.KNeighborsClassifier(n_neighbors=k)\n",
        "    knn.fit(X_train,y_train)\n",
        "    pred = knn.predict(X_test)\n",
        "    score = float(sum(pred == y_test)) / len(y)\n",
        "    scores.append([k, score])\n",
        "    \n",
        "plot_data = pd.DataFrame(scores,columns=['k','score'])\n",
        "plot_data.plot.line(x='k',y='score');"
      ],
      "execution_count": 89,
      "outputs": [
        {
          "output_type": "display_data",
          "data": {
            "image/png": "[encoded data removed]",
            "text/plain": [
              "<matplotlib.figure.Figure at 0x7f5d7ce9f3c8>"
            ]
          },
          "metadata": {
            "tags": []
          }
        }
      ]
    },
    {
      "metadata": {
        "id": "Z1DXssMdM9h4",
        "colab_type": "code",
        "colab": {
          "autoexec": {
            "startup": false,
            "wait_interval": 0
          },
          "output_extras": [
            {
              "item_id": 21
            }
          ],
          "base_uri": "https://localhost:8080/",
          "height": 1733
        },
        "outputId": "036d6866-9a98-437e-988e-9dde942c495c",
        "executionInfo": {
          "status": "ok",
          "timestamp": 1519869853690,
          "user_tz": 300,
          "elapsed": 5877,
          "user": {
            "displayName": "Sam Gottuso",
            "photoUrl": "https://lh3.googleusercontent.com/a/default-user=s128",
            "userId": "100314253426387371036"
          }
        }
      },
      "cell_type": "code",
      "source": [
        "from sklearn import metrics\n",
        "\n",
        "for k in range(2,60):\n",
        "  neighbors_num=str(k)\n",
        "  knn = neighbors.KNeighborsClassifier(n_neighbors=k)\n",
        "  knn.fit(X_train, y_train)\n",
        "  score=knn.score(X_test,y_test)\n",
        "  print(\"With {} neighbors, the score is {}\".format(neighbors_num,score))\n",
        "  \n",
        "#looks like the highest is 25 neighbors, which looks like it adds up\n",
        "\n",
        "final_knn=neighbors.KNeighborsClassifier(n_neighbors=25)\n",
        "final_knn.fit(X_train,y_train)\n",
        "preds=final_knn.predict(X_test)\n",
        "accuracy=metrics.accuracy_score(y_test,preds)\n",
        "print('final KNN score is', accuracy)\n",
        "\n",
        "#huh there's no difference there, I kinda though there would\n",
        "\n",
        "\n"
      ],
      "execution_count": 92,
      "outputs": [
        {
          "output_type": "stream",
          "text": [
            "With 2 neighbors, the score is 0.5460526315789473\n",
            "With 3 neighbors, the score is 0.5550239234449761\n",
            "With 4 neighbors, the score is 0.5430622009569378\n",
            "With 5 neighbors, the score is 0.555622009569378\n",
            "With 6 neighbors, the score is 0.562799043062201\n",
            "With 7 neighbors, the score is 0.5472488038277512\n",
            "With 8 neighbors, the score is 0.5520334928229665\n",
            "With 9 neighbors, the score is 0.5514354066985646\n",
            "With 10 neighbors, the score is 0.5526315789473685\n",
            "With 11 neighbors, the score is 0.55622009569378\n",
            "With 12 neighbors, the score is 0.56877990430622\n",
            "With 13 neighbors, the score is 0.562200956937799\n",
            "With 14 neighbors, the score is 0.5669856459330144\n",
            "With 15 neighbors, the score is 0.5651913875598086\n",
            "With 16 neighbors, the score is 0.562200956937799\n",
            "With 17 neighbors, the score is 0.5616028708133971\n",
            "With 18 neighbors, the score is 0.5681818181818182\n",
            "With 19 neighbors, the score is 0.5777511961722488\n",
            "With 20 neighbors, the score is 0.5759569377990431\n",
            "With 21 neighbors, the score is 0.5849282296650717\n",
            "With 22 neighbors, the score is 0.5813397129186603\n",
            "With 23 neighbors, the score is 0.5807416267942583\n",
            "With 24 neighbors, the score is 0.5843301435406698\n",
            "With 25 neighbors, the score is 0.5849282296650717\n",
            "With 26 neighbors, the score is 0.5807416267942583\n",
            "With 27 neighbors, the score is 0.5723684210526315\n",
            "With 28 neighbors, the score is 0.5777511961722488\n",
            "With 29 neighbors, the score is 0.5759569377990431\n",
            "With 30 neighbors, the score is 0.5825358851674641\n",
            "With 31 neighbors, the score is 0.5747607655502392\n",
            "With 32 neighbors, the score is 0.56877990430622\n",
            "With 33 neighbors, the score is 0.5753588516746412\n",
            "With 34 neighbors, the score is 0.5723684210526315\n",
            "With 35 neighbors, the score is 0.5699760765550239\n",
            "With 36 neighbors, the score is 0.5645933014354066\n",
            "With 37 neighbors, the score is 0.5610047846889952\n",
            "With 38 neighbors, the score is 0.5657894736842105\n",
            "With 39 neighbors, the score is 0.562200956937799\n",
            "With 40 neighbors, the score is 0.5586124401913876\n",
            "With 41 neighbors, the score is 0.5574162679425837\n",
            "With 42 neighbors, the score is 0.5598086124401914\n",
            "With 43 neighbors, the score is 0.5616028708133971\n",
            "With 44 neighbors, the score is 0.55622009569378\n",
            "With 45 neighbors, the score is 0.5645933014354066\n",
            "With 46 neighbors, the score is 0.55622009569378\n",
            "With 47 neighbors, the score is 0.5550239234449761\n",
            "With 48 neighbors, the score is 0.5550239234449761\n",
            "With 49 neighbors, the score is 0.5526315789473685\n",
            "With 50 neighbors, the score is 0.5508373205741627\n",
            "With 51 neighbors, the score is 0.5544258373205742\n",
            "With 52 neighbors, the score is 0.5544258373205742\n",
            "With 53 neighbors, the score is 0.5616028708133971\n",
            "With 54 neighbors, the score is 0.55622009569378\n",
            "With 55 neighbors, the score is 0.5669856459330144\n",
            "With 56 neighbors, the score is 0.5580143540669856\n",
            "With 57 neighbors, the score is 0.5639952153110048\n",
            "With 58 neighbors, the score is 0.5669856459330144\n",
            "With 59 neighbors, the score is 0.5675837320574163\n",
            "With 60 neighbors, the score is 0.5663875598086124\n",
            "With 61 neighbors, the score is 0.56877990430622\n",
            "With 62 neighbors, the score is 0.5663875598086124\n",
            "With 63 neighbors, the score is 0.5723684210526315\n",
            "With 64 neighbors, the score is 0.5711722488038278\n",
            "With 65 neighbors, the score is 0.5777511961722488\n",
            "With 66 neighbors, the score is 0.5723684210526315\n",
            "With 67 neighbors, the score is 0.5747607655502392\n",
            "With 68 neighbors, the score is 0.5699760765550239\n",
            "With 69 neighbors, the score is 0.5711722488038278\n",
            "With 70 neighbors, the score is 0.5675837320574163\n",
            "With 71 neighbors, the score is 0.5633971291866029\n",
            "With 72 neighbors, the score is 0.5717703349282297\n",
            "With 73 neighbors, the score is 0.5675837320574163\n",
            "With 74 neighbors, the score is 0.5675837320574163\n",
            "With 75 neighbors, the score is 0.569377990430622\n",
            "With 76 neighbors, the score is 0.562799043062201\n",
            "With 77 neighbors, the score is 0.5598086124401914\n",
            "With 78 neighbors, the score is 0.5616028708133971\n",
            "With 79 neighbors, the score is 0.5568181818181818\n",
            "With 80 neighbors, the score is 0.5610047846889952\n",
            "With 81 neighbors, the score is 0.5675837320574163\n",
            "With 82 neighbors, the score is 0.5580143540669856\n",
            "With 83 neighbors, the score is 0.5586124401913876\n",
            "With 84 neighbors, the score is 0.5574162679425837\n",
            "With 85 neighbors, the score is 0.562799043062201\n",
            "With 86 neighbors, the score is 0.5645933014354066\n",
            "With 87 neighbors, the score is 0.5657894736842105\n",
            "With 88 neighbors, the score is 0.562200956937799\n",
            "With 89 neighbors, the score is 0.5657894736842105\n",
            "With 90 neighbors, the score is 0.5633971291866029\n",
            "With 91 neighbors, the score is 0.5681818181818182\n",
            "With 92 neighbors, the score is 0.5633971291866029\n",
            "With 93 neighbors, the score is 0.5657894736842105\n",
            "With 94 neighbors, the score is 0.5645933014354066\n",
            "With 95 neighbors, the score is 0.5604066985645934\n",
            "With 96 neighbors, the score is 0.5645933014354066\n",
            "With 97 neighbors, the score is 0.5657894736842105\n",
            "With 98 neighbors, the score is 0.5645933014354066\n",
            "With 99 neighbors, the score is 0.5645933014354066\n",
            "final KNN score is 0.5849282296650717\n"
          ],
          "name": "stdout"
        }
      ]
    },
    {
      "metadata": {
        "id": "giNIe3LaT0SX",
        "colab_type": "code",
        "colab": {
          "autoexec": {
            "startup": false,
            "wait_interval": 0
          }
        }
      },
      "cell_type": "code",
      "source": [
        "#How about a Deep Learning Network?\n",
        "\n",
        "#Setup\n",
        "import keras\n",
        "from keras.layers import Dense\n",
        "model=keras.Sequential()\n",
        "\n",
        "#Making target data the right type\n",
        "from keras.utils import to_categorical\n",
        "y_binary = to_categorical(y_train)\n",
        "\n",
        "X_np=np.array(X_train)\n",
        "y_np=np.array(y_binary)\n",
        "n_cols=X.shape[1]\n",
        "\n",
        "\n"
      ],
      "execution_count": 0,
      "outputs": []
    },
    {
      "metadata": {
        "id": "HJLPHTfuZUmG",
        "colab_type": "code",
        "colab": {
          "autoexec": {
            "startup": false,
            "wait_interval": 0
          }
        }
      },
      "cell_type": "code",
      "source": [
        "model.add(Dense(50,activation='elu',input_shape=(n_cols,)))\n",
        "model.add(Dense(50,activation='elu'))\n",
        "model.add(Dense(50,activation='elu'))\n",
        "model.add(Dense(50,activation='elu'))\n",
        "#Final layer with 2 outcomes\n",
        "model.add(Dense(2,activation='softmax'))\n",
        "model.compile(optimizer='SGD',loss='categorical_crossentropy',metrics=['accuracy'])\n",
        "\n"
      ],
      "execution_count": 0,
      "outputs": []
    },
    {
      "metadata": {
        "id": "GbLCf1d5ZEKJ",
        "colab_type": "code",
        "colab": {
          "autoexec": {
            "startup": false,
            "wait_interval": 0
          },
          "output_extras": [
            {
              "item_id": 41
            },
            {
              "item_id": 56
            }
          ],
          "base_uri": "https://localhost:8080/",
          "height": 401
        },
        "outputId": "6f3e6206-45a5-4076-8f41-babf57b5249d",
        "executionInfo": {
          "status": "ok",
          "timestamp": 1519872130049,
          "user_tz": 300,
          "elapsed": 14008,
          "user": {
            "displayName": "Sam Gottuso",
            "photoUrl": "https://lh3.googleusercontent.com/a/default-user=s128",
            "userId": "100314253426387371036"
          }
        }
      },
      "cell_type": "code",
      "source": [
        "#Fitting and Predictions Predictions\n",
        "model.fit(X_np,y_np,epochs=10,validation_split=.3)\n",
        "predictions=model.predict(X_test)\n",
        "#Prediction of upset\n",
        "upset_prob=predictions[:1]\n",
        "\n",
        "\n"
      ],
      "execution_count": 145,
      "outputs": [
        {
          "output_type": "stream",
          "text": [
            "Train on 3509 samples, validate on 1505 samples\n",
            "Epoch 1/10\n",
            "3509/3509 [==============================] - 1s 418us/step - loss: 0.6912 - acc: 0.5352 - val_loss: 0.6907 - val_acc: 0.5362\n",
            "Epoch 2/10\n",
            "3509/3509 [==============================] - 1s 364us/step - loss: 0.6914 - acc: 0.5352 - val_loss: 0.6906 - val_acc: 0.5362\n",
            "Epoch 3/10\n",
            "3509/3509 [==============================] - 1s 393us/step - loss: 0.6910 - acc: 0.5312 - val_loss: 0.6912 - val_acc: 0.5362\n",
            "Epoch 4/10\n",
            "3509/3509 [==============================] - 1s 396us/step - loss: 0.6915 - acc: 0.5352 - val_loss: 0.6905 - val_acc: 0.5362\n",
            "Epoch 5/10\n",
            "3509/3509 [==============================] - 1s 386us/step - loss: 0.6912 - acc: 0.5352 - val_loss: 0.6907 - val_acc: 0.5362\n",
            "Epoch 6/10\n",
            "3509/3509 [==============================] - 1s 387us/step - loss: 0.6913 - acc: 0.5352 - val_loss: 0.6905 - val_acc: 0.5362\n",
            "Epoch 7/10\n",
            "3509/3509 [==============================] - 1s 391us/step - loss: 0.6916 - acc: 0.5352 - val_loss: 0.6912 - val_acc: 0.5362\n",
            "Epoch 8/10\n",
            "1152/3509 [========>.....................] - ETA: 0s - loss: 0.6890 - acc: 0.5495"
          ],
          "name": "stdout"
        },
        {
          "output_type": "stream",
          "text": [
            "3509/3509 [==============================] - 1s 392us/step - loss: 0.6914 - acc: 0.5312 - val_loss: 0.6909 - val_acc: 0.5362\n",
            "Epoch 9/10\n",
            "3509/3509 [==============================] - 1s 382us/step - loss: 0.6909 - acc: 0.5352 - val_loss: 0.6912 - val_acc: 0.5362\n",
            "Epoch 10/10\n",
            "3509/3509 [==============================] - 1s 392us/step - loss: 0.6915 - acc: 0.5352 - val_loss: 0.6909 - val_acc: 0.5362\n"
          ],
          "name": "stdout"
        }
      ]
    },
    {
      "metadata": {
        "id": "TmRKcNbRcJ9E",
        "colab_type": "code",
        "colab": {
          "autoexec": {
            "startup": false,
            "wait_interval": 0
          },
          "output_extras": [
            {
              "item_id": 29
            },
            {
              "item_id": 30
            }
          ],
          "base_uri": "https://localhost:8080/",
          "height": 398
        },
        "outputId": "433042d8-003e-4dad-c8dc-667ee95b1fef",
        "executionInfo": {
          "status": "ok",
          "timestamp": 1519872361810,
          "user_tz": 300,
          "elapsed": 7801,
          "user": {
            "displayName": "Sam Gottuso",
            "photoUrl": "https://lh3.googleusercontent.com/a/default-user=s128",
            "userId": "100314253426387371036"
          }
        }
      },
      "cell_type": "code",
      "source": [
        "#Trying with more nodes?\n",
        "\n",
        "model_nodes=keras.Sequential()\n",
        "model_nodes.add(Dense(100,activation='elu',input_shape=(n_cols,)))\n",
        "model_nodes.add(Dense(100,activation='elu'))\n",
        "model_nodes.add(Dense(100,activation='elu'))\n",
        "model_nodes.add(Dense(100,activation='elu'))\n",
        "#Final layer with 2 outcomes\n",
        "model_nodes.add(Dense(2,activation='softmax'))\n",
        "model_nodes.compile(optimizer='SGD',loss='categorical_crossentropy',metrics=['accuracy'])\n",
        "\n",
        "#Re-fit\n",
        "model_nodes.fit(X_np,y_np,epochs=10,validation_split=.3)\n",
        "\n",
        "#Oh that gave us a nice little boost in accuracy from .53 to .6- I tried more than 100 nodes but it didn't improve performance"
      ],
      "execution_count": 152,
      "outputs": [
        {
          "output_type": "stream",
          "text": [
            "Train on 3509 samples, validate on 1505 samples\n",
            "Epoch 1/10\n",
            "3509/3509 [==============================] - 1s 398us/step - loss: 0.7915 - acc: 0.5301 - val_loss: 0.6770 - val_acc: 0.5681\n",
            "Epoch 2/10\n",
            "3509/3509 [==============================] - 1s 188us/step - loss: 0.6925 - acc: 0.5546 - val_loss: 0.7103 - val_acc: 0.5382\n",
            "Epoch 3/10\n",
            "3509/3509 [==============================] - 1s 191us/step - loss: 0.6779 - acc: 0.5788 - val_loss: 0.6826 - val_acc: 0.5528\n",
            "Epoch 4/10\n",
            "3509/3509 [==============================] - 1s 187us/step - loss: 0.6715 - acc: 0.5691 - val_loss: 0.6993 - val_acc: 0.5415\n",
            "Epoch 5/10\n",
            "3509/3509 [==============================] - 1s 187us/step - loss: 0.6743 - acc: 0.5765 - val_loss: 0.6901 - val_acc: 0.5535\n",
            "Epoch 6/10\n",
            "3509/3509 [==============================] - 1s 187us/step - loss: 0.6727 - acc: 0.5862 - val_loss: 0.6658 - val_acc: 0.6000\n",
            "Epoch 7/10\n",
            "3509/3509 [==============================] - 1s 182us/step - loss: 0.6722 - acc: 0.5913 - val_loss: 0.6647 - val_acc: 0.6040\n",
            "Epoch 8/10\n",
            "3509/3509 [==============================] - 1s 184us/step - loss: 0.6644 - acc: 0.5956 - val_loss: 0.6649 - val_acc: 0.5940\n",
            "Epoch 9/10\n",
            "3509/3509 [==============================] - 1s 181us/step - loss: 0.6642 - acc: 0.5970 - val_loss: 0.6660 - val_acc: 0.5821\n",
            "Epoch 10/10\n",
            "3509/3509 [==============================] - 1s 182us/step - loss: 0.6675 - acc: 0.6005 - val_loss: 0.6838 - val_acc: 0.5794\n"
          ],
          "name": "stdout"
        },
        {
          "output_type": "execute_result",
          "data": {
            "text/plain": [
              "<keras.callbacks.History at 0x7f5d75f92d30>"
            ]
          },
          "metadata": {
            "tags": []
          },
          "execution_count": 152
        }
      ]
    },
    {
      "metadata": {
        "id": "7SQIGvukdBrR",
        "colab_type": "code",
        "colab": {
          "autoexec": {
            "startup": false,
            "wait_interval": 0
          },
          "output_extras": [
            {
              "item_id": 33
            },
            {
              "item_id": 36
            },
            {
              "item_id": 37
            }
          ],
          "base_uri": "https://localhost:8080/",
          "height": 418
        },
        "outputId": "829b0716-dc3b-4aa9-e4bb-dde754e707b8",
        "executionInfo": {
          "status": "ok",
          "timestamp": 1519872662382,
          "user_tz": 300,
          "elapsed": 10241,
          "user": {
            "displayName": "Sam Gottuso",
            "photoUrl": "https://lh3.googleusercontent.com/a/default-user=s128",
            "userId": "100314253426387371036"
          }
        }
      },
      "cell_type": "code",
      "source": [
        "##Trying with more layers\n",
        "\n",
        "\n",
        "model_layers=keras.Sequential()\n",
        "model_layers.add(Dense(100,activation='elu',input_shape=(n_cols,)))\n",
        "model_layers.add(Dense(100,activation='elu'))\n",
        "model_layers.add(Dense(100,activation='elu'))\n",
        "model_layers.add(Dense(100,activation='elu'))\n",
        "#Final layer with 2 outcomes\n",
        "model_layers.add(Dense(2,activation='softmax'))\n",
        "model_layers.compile(optimizer='adam',loss='categorical_crossentropy',metrics=['accuracy'])\n",
        "\n",
        "#Re-fit\n",
        "model_layers.fit(X_np,y_np,epochs=10,validation_split=.3)\n",
        "\n",
        "#One more layer boosted accuracy a little--- I tried with more but decreased performance-- Adam optimizer also slightly better than SGD-- would need to read pu on differences"
      ],
      "execution_count": 163,
      "outputs": [
        {
          "output_type": "stream",
          "text": [
            "Train on 3509 samples, validate on 1505 samples\n",
            "Epoch 1/10\n",
            "3509/3509 [==============================] - 2s 597us/step - loss: 0.7938 - acc: 0.5329 - val_loss: 0.6970 - val_acc: 0.5508\n",
            "Epoch 2/10\n",
            "3509/3509 [==============================] - 1s 233us/step - loss: 0.6842 - acc: 0.5688 - val_loss: 0.6706 - val_acc: 0.5794\n",
            "Epoch 3/10\n",
            "3509/3509 [==============================] - 1s 240us/step - loss: 0.6726 - acc: 0.5893 - val_loss: 0.6726 - val_acc: 0.5927\n",
            "Epoch 4/10\n",
            "3509/3509 [==============================] - 1s 229us/step - loss: 0.6675 - acc: 0.5908 - val_loss: 0.6734 - val_acc: 0.5694\n",
            "Epoch 5/10\n",
            "3509/3509 [==============================] - 1s 229us/step - loss: 0.6722 - acc: 0.5891 - val_loss: 0.6644 - val_acc: 0.5920\n",
            "Epoch 6/10\n",
            "3509/3509 [==============================] - 1s 233us/step - loss: 0.6599 - acc: 0.6062 - val_loss: 0.6693 - val_acc: 0.5953\n",
            "Epoch 7/10\n",
            "3509/3509 [==============================] - 1s 230us/step - loss: 0.6756 - acc: 0.5799 - val_loss: 0.6886 - val_acc: 0.5900\n",
            "Epoch 8/10\n",
            "3509/3509 [==============================] - 1s 233us/step - loss: 0.6558 - acc: 0.6002 - val_loss: 0.6634 - val_acc: 0.5728\n",
            "Epoch 9/10\n",
            "3509/3509 [==============================] - 1s 239us/step - loss: 0.6559 - acc: 0.5930 - val_loss: 0.6551 - val_acc: 0.6033\n",
            "Epoch 10/10\n",
            "1088/3509 [========>.....................] - ETA: 0s - loss: 0.6644 - acc: 0.6020"
          ],
          "name": "stdout"
        },
        {
          "output_type": "stream",
          "text": [
            "3509/3509 [==============================] - 1s 228us/step - loss: 0.6500 - acc: 0.6076 - val_loss: 0.6447 - val_acc: 0.5801\n"
          ],
          "name": "stdout"
        },
        {
          "output_type": "execute_result",
          "data": {
            "text/plain": [
              "<keras.callbacks.History at 0x7f5d730fcc50>"
            ]
          },
          "metadata": {
            "tags": []
          },
          "execution_count": 163
        }
      ]
    }
  ]
}