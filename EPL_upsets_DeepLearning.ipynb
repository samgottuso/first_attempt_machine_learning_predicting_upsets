{
  "nbformat": 4,
  "nbformat_minor": 0,
  "metadata": {
    "colab": {
      "name": "EPL_upsets_DeepLearning.ipynb",
      "version": "0.3.2",
      "views": {},
      "default_view": {},
      "provenance": [],
      "collapsed_sections": []
    },
    "kernelspec": {
      "name": "python3",
      "display_name": "Python 3"
    },
    "accelerator": "GPU"
  },
  "cells": [
    {
      "metadata": {
        "id": "7LmuDucSp5Lw",
        "colab_type": "code",
        "colab": {
          "autoexec": {
            "startup": false,
            "wait_interval": 0
          },
          "output_extras": [
            {
              "item_id": 1
            }
          ],
          "base_uri": "https://localhost:8080/",
          "height": 34
        },
        "outputId": "7f004924-2571-4959-beac-cbb348c53d76",
        "executionInfo": {
          "status": "ok",
          "timestamp": 1519780920730,
          "user_tz": 300,
          "elapsed": 7791,
          "user": {
            "displayName": "Sam Gottuso",
            "photoUrl": "https://lh3.googleusercontent.com/a/default-user=s128",
            "userId": "100314253426387371036"
          }
        }
      },
      "cell_type": "code",
      "source": [
        "#Simply select \"GPU\" in the Accelerator drop-down in Notebook Settings (either through the Edit menu or the command palette at cmd/ctrl-shift-P).\n",
        "\n",
        "import tensorflow as tf\n",
        "device_name = tf.test.gpu_device_name()\n",
        "if device_name != '/device:GPU:0':\n",
        "  raise SystemError('GPU device not found')\n",
        "print('Found GPU at: {}'.format(device_name))"
      ],
      "execution_count": 1,
      "outputs": [
        {
          "output_type": "stream",
          "text": [
            "Found GPU at: /device:GPU:0\n"
          ],
          "name": "stdout"
        }
      ]
    },
    {
      "metadata": {
        "id": "isVSC-c7qgsB",
        "colab_type": "code",
        "colab": {
          "autoexec": {
            "startup": false,
            "wait_interval": 0
          },
          "output_extras": [
            {
              "item_id": 5
            }
          ],
          "base_uri": "https://localhost:8080/",
          "height": 190
        },
        "outputId": "b50b48d6-cbdf-49c2-9a39-34e4d03d160f",
        "executionInfo": {
          "status": "ok",
          "timestamp": 1519780954524,
          "user_tz": 300,
          "elapsed": 11343,
          "user": {
            "displayName": "Sam Gottuso",
            "photoUrl": "https://lh3.googleusercontent.com/a/default-user=s128",
            "userId": "100314253426387371036"
          }
        }
      },
      "cell_type": "code",
      "source": [
        "#Getting and unzipping data\n",
        "\n",
        "!wget https://raw.githubusercontent.com/samgottuso/first_attempt_machine_learning_predicting_upsets/master/EPL_upsets.zip -c\n",
        "\n",
        "!mkdir EPL_data\n",
        "\n",
        "!unzip EPL_upsets.zip -d EPL_data/"
      ],
      "execution_count": 3,
      "outputs": [
        {
          "output_type": "stream",
          "text": [
            "--2018-02-28 01:22:22--  https://raw.githubusercontent.com/samgottuso/first_attempt_machine_learning_predicting_upsets/master/EPL_upsets.zip\r\n",
            "Resolving raw.githubusercontent.com (raw.githubusercontent.com)... 151.101.0.133, 151.101.64.133, 151.101.128.133, ...\r\n",
            "Connecting to raw.githubusercontent.com (raw.githubusercontent.com)|151.101.0.133|:443... connected.\n",
            "HTTP request sent, awaiting response... 416 Range Not Satisfiable\n",
            "\n",
            "    The file is already fully retrieved; nothing to do.\n",
            "\n",
            "mkdir: cannot create directory ‘EPL_data’: File exists\n",
            "Archive:  EPL_upsets.zip\n",
            "replace EPL_data/epl_2000.csv? [y]es, [n]o, [A]ll, [N]one, [r]ename: ^C\n"
          ],
          "name": "stdout"
        }
      ]
    },
    {
      "metadata": {
        "id": "eKZrZOcBubA6",
        "colab_type": "code",
        "colab": {
          "autoexec": {
            "startup": false,
            "wait_interval": 0
          },
          "output_extras": [
            {
              "item_id": 5
            }
          ],
          "base_uri": "https://localhost:8080/",
          "height": 589
        },
        "outputId": "336ea9ae-0b53-4fd1-f1b0-dfb0a35d0bc7",
        "executionInfo": {
          "status": "ok",
          "timestamp": 1519780962609,
          "user_tz": 300,
          "elapsed": 1457,
          "user": {
            "displayName": "Sam Gottuso",
            "photoUrl": "https://lh3.googleusercontent.com/a/default-user=s128",
            "userId": "100314253426387371036"
          }
        }
      },
      "cell_type": "code",
      "source": [
        "#Some of these won't play nicely with others\n",
        "\n",
        "!wget https://raw.githubusercontent.com/samgottuso/first_attempt_machine_learning_predicting_upsets/master/epl_2000.csv\n",
        "!wget https://raw.githubusercontent.com/samgottuso/first_attempt_machine_learning_predicting_upsets/master/epl_2001.csv\n",
        "!wget https://raw.githubusercontent.com/samgottuso/first_attempt_machine_learning_predicting_upsets/master/epl_2002.csv"
      ],
      "execution_count": 4,
      "outputs": [
        {
          "output_type": "stream",
          "text": [
            "--2018-02-28 01:22:40--  https://raw.githubusercontent.com/samgottuso/first_attempt_machine_learning_predicting_upsets/master/epl_2000.csv\r\n",
            "Resolving raw.githubusercontent.com (raw.githubusercontent.com)... 151.101.0.133, 151.101.64.133, 151.101.128.133, ...\r\n",
            "Connecting to raw.githubusercontent.com (raw.githubusercontent.com)|151.101.0.133|:443... connected.\n",
            "HTTP request sent, awaiting response... 200 OK\n",
            "Length: 62148 (61K) [text/plain]\n",
            "Saving to: ‘epl_2000.csv’\n",
            "\n",
            "epl_2000.csv        100%[===================>]  60.69K  --.-KB/s    in 0.03s   \n",
            "\n",
            "2018-02-28 01:22:40 (2.17 MB/s) - ‘epl_2000.csv’ saved [62148/62148]\n",
            "\n",
            "--2018-02-28 01:22:40--  https://raw.githubusercontent.com/samgottuso/first_attempt_machine_learning_predicting_upsets/master/epl_2001.csv\n",
            "Resolving raw.githubusercontent.com (raw.githubusercontent.com)... 151.101.0.133, 151.101.64.133, 151.101.128.133, ...\n",
            "Connecting to raw.githubusercontent.com (raw.githubusercontent.com)|151.101.0.133|:443... connected.\n",
            "HTTP request sent, awaiting response... 200 OK\n",
            "Length: 66230 (65K) [text/plain]\n",
            "Saving to: ‘epl_2001.csv’\n",
            "\n",
            "epl_2001.csv        100%[===================>]  64.68K  --.-KB/s    in 0.03s   \n",
            "\n",
            "2018-02-28 01:22:40 (2.24 MB/s) - ‘epl_2001.csv’ saved [66230/66230]\n",
            "\n",
            "--2018-02-28 01:22:41--  https://raw.githubusercontent.com/samgottuso/first_attempt_machine_learning_predicting_upsets/master/epl_2002.csv\n",
            "Resolving raw.githubusercontent.com (raw.githubusercontent.com)... 151.101.0.133, 151.101.64.133, 151.101.128.133, ...\n",
            "Connecting to raw.githubusercontent.com (raw.githubusercontent.com)|151.101.0.133|:443... connected.\n",
            "HTTP request sent, awaiting response... 200 OK\n",
            "Length: 70309 (69K) [text/plain]\n",
            "Saving to: ‘epl_2002.csv’\n",
            "\n",
            "epl_2002.csv        100%[===================>]  68.66K  --.-KB/s    in 0.03s   \n",
            "\n",
            "2018-02-28 01:22:41 (2.38 MB/s) - ‘epl_2002.csv’ saved [70309/70309]\n",
            "\n"
          ],
          "name": "stdout"
        }
      ]
    },
    {
      "metadata": {
        "id": "8S_junCQs2__",
        "colab_type": "code",
        "colab": {
          "autoexec": {
            "startup": false,
            "wait_interval": 0
          },
          "output_extras": [
            {
              "item_id": 4
            }
          ],
          "base_uri": "https://localhost:8080/",
          "height": 173
        },
        "outputId": "64fc932d-e113-4f65-a9dc-2346df1d47c1",
        "executionInfo": {
          "status": "ok",
          "timestamp": 1519780969355,
          "user_tz": 300,
          "elapsed": 2593,
          "user": {
            "displayName": "Sam Gottuso",
            "photoUrl": "https://lh3.googleusercontent.com/a/default-user=s128",
            "userId": "100314253426387371036"
          }
        }
      },
      "cell_type": "code",
      "source": [
        "# Downloading and intstalling keras\n",
        "!pip install keras"
      ],
      "execution_count": 5,
      "outputs": [
        {
          "output_type": "stream",
          "text": [
            "Collecting keras\n",
            "  Downloading Keras-2.1.4-py2.py3-none-any.whl (322kB)\n",
            "\u001b[K    100% |████████████████████████████████| 327kB 2.3MB/s \n",
            "\u001b[?25hRequirement already satisfied: pyyaml in /usr/local/lib/python3.6/dist-packages (from keras)\n",
            "Requirement already satisfied: numpy>=1.9.1 in /usr/local/lib/python3.6/dist-packages (from keras)\n",
            "Requirement already satisfied: six>=1.9.0 in /usr/local/lib/python3.6/dist-packages (from keras)\n",
            "Requirement already satisfied: scipy>=0.14 in /usr/local/lib/python3.6/dist-packages (from keras)\n",
            "Installing collected packages: keras\n",
            "Successfully installed keras-2.1.4\n"
          ],
          "name": "stdout"
        }
      ]
    },
    {
      "metadata": {
        "id": "H3RiwCIqs6dr",
        "colab_type": "code",
        "colab": {
          "autoexec": {
            "startup": false,
            "wait_interval": 0
          },
          "output_extras": [
            {
              "item_id": 1
            }
          ],
          "base_uri": "https://localhost:8080/",
          "height": 89
        },
        "outputId": "31df9af0-b89e-43dc-f669-0b98c8760231",
        "executionInfo": {
          "status": "ok",
          "timestamp": 1519780972864,
          "user_tz": 300,
          "elapsed": 396,
          "user": {
            "displayName": "Sam Gottuso",
            "photoUrl": "https://lh3.googleusercontent.com/a/default-user=s128",
            "userId": "100314253426387371036"
          }
        }
      },
      "cell_type": "code",
      "source": [
        "import numpy as np\n",
        "import pandas as pd\n",
        "import matplotlib.pyplot as plt\n",
        "import seaborn as sns\n",
        "\n",
        "S_0=pd.read_csv('epl_2000.csv', error_bad_lines=False)\n",
        "S_1=pd.read_csv('epl_2001.csv',error_bad_lines=False)\n",
        "S_2=pd.read_csv('epl_2002.csv',error_bad_lines=False)\n",
        "S_3=pd.read_csv('EPL_data/epl_2003.csv', error_bad_lines=False)\n",
        "S_4=pd.read_csv('EPL_data/epl_2004.csv', error_bad_lines=False)\n",
        "S_5=pd.read_csv('EPL_data/epl_2005.csv', error_bad_lines=False)\n",
        "S_6=pd.read_csv('EPL_data/epl_2006.csv', error_bad_lines=False)\n",
        "S_7=pd.read_csv('EPL_data/epl_2007.csv', error_bad_lines=False)\n",
        "S_8=pd.read_csv('EPL_data/epl_2008.csv', error_bad_lines=False)\n",
        "S_9=pd.read_csv('EPL_data/epl_2009.csv', error_bad_lines=False)\n",
        "S_10=pd.read_csv('EPL_data/epl_2010.csv', error_bad_lines=False)\n",
        "S_11=pd.read_csv('EPL_data/epl_2011.csv', error_bad_lines=False)\n",
        "S_12=pd.read_csv('EPL_data/epl_2012.csv', error_bad_lines=False)\n",
        "S_13=pd.read_csv('EPL_data/epl_2013.csv', error_bad_lines=False)\n",
        "S_14=pd.read_csv('EPL_data/epl_2014.csv', error_bad_lines=False)\n",
        "S_15=pd.read_csv('EPL_data/epl_2015.csv', error_bad_lines=False)\n",
        "S_16=pd .read_csv('EPL_data/epl_2016.csv', error_bad_lines=False)\n",
        "S_17=pd.read_csv('EPL_data/epl_2017.csv', error_bad_lines=False)"
      ],
      "execution_count": 6,
      "outputs": [
        {
          "output_type": "stream",
          "text": [
            "b'Skipping line 257: expected 48 fields, saw 49\\nSkipping line 258: expected 48 fields, saw 49\\nSkipping line 259: expected 48 fields, saw 49\\nSkipping line 260: expected 48 fields, saw 49\\nSkipping line 261: expected 48 fields, saw 49\\nSkipping line 262: expected 48 fields, saw 49\\nSkipping line 263: expected 48 fields, saw 49\\nSkipping line 264: expected 48 fields, saw 49\\nSkipping line 265: expected 48 fields, saw 49\\nSkipping line 266: expected 48 fields, saw 49\\nSkipping line 267: expected 48 fields, saw 49\\nSkipping line 268: expected 48 fields, saw 49\\nSkipping line 269: expected 48 fields, saw 49\\nSkipping line 270: expected 48 fields, saw 49\\nSkipping line 271: expected 48 fields, saw 49\\nSkipping line 272: expected 48 fields, saw 49\\nSkipping line 273: expected 48 fields, saw 51\\nSkipping line 274: expected 48 fields, saw 51\\nSkipping line 275: expected 48 fields, saw 51\\nSkipping line 276: expected 48 fields, saw 51\\nSkipping line 277: expected 48 fields, saw 51\\nSkipping line 278: expected 48 fields, saw 51\\nSkipping line 279: expected 48 fields, saw 51\\nSkipping line 280: expected 48 fields, saw 51\\nSkipping line 281: expected 48 fields, saw 51\\nSkipping line 282: expected 48 fields, saw 51\\nSkipping line 283: expected 48 fields, saw 51\\nSkipping line 284: expected 48 fields, saw 51\\nSkipping line 285: expected 48 fields, saw 51\\nSkipping line 286: expected 48 fields, saw 51\\nSkipping line 287: expected 48 fields, saw 51\\nSkipping line 288: expected 48 fields, saw 51\\nSkipping line 321: expected 48 fields, saw 49\\nSkipping line 322: expected 48 fields, saw 49\\nSkipping line 323: expected 48 fields, saw 49\\nSkipping line 324: expected 48 fields, saw 49\\nSkipping line 325: expected 48 fields, saw 49\\nSkipping line 326: expected 48 fields, saw 49\\nSkipping line 327: expected 48 fields, saw 49\\nSkipping line 328: expected 48 fields, saw 49\\nSkipping line 329: expected 48 fields, saw 49\\nSkipping line 330: expected 48 fields, saw 49\\nSkipping line 331: expected 48 fields, saw 49\\nSkipping line 332: expected 48 fields, saw 49\\nSkipping line 333: expected 48 fields, saw 49\\nSkipping line 334: expected 48 fields, saw 49\\nSkipping line 335: expected 48 fields, saw 49\\nSkipping line 336: expected 48 fields, saw 49\\nSkipping line 337: expected 48 fields, saw 53\\nSkipping line 338: expected 48 fields, saw 53\\nSkipping line 339: expected 48 fields, saw 53\\nSkipping line 340: expected 48 fields, saw 53\\nSkipping line 341: expected 48 fields, saw 53\\nSkipping line 342: expected 48 fields, saw 53\\nSkipping line 343: expected 48 fields, saw 53\\nSkipping line 344: expected 48 fields, saw 53\\nSkipping line 345: expected 48 fields, saw 53\\nSkipping line 346: expected 48 fields, saw 53\\nSkipping line 347: expected 48 fields, saw 53\\nSkipping line 348: expected 48 fields, saw 53\\nSkipping line 349: expected 48 fields, saw 53\\nSkipping line 350: expected 48 fields, saw 53\\nSkipping line 351: expected 48 fields, saw 53\\nSkipping line 352: expected 48 fields, saw 53\\n'\n",
            "b'Skipping line 305: expected 57 fields, saw 72\\nSkipping line 306: expected 57 fields, saw 72\\nSkipping line 307: expected 57 fields, saw 72\\nSkipping line 308: expected 57 fields, saw 72\\nSkipping line 309: expected 57 fields, saw 72\\nSkipping line 310: expected 57 fields, saw 72\\nSkipping line 311: expected 57 fields, saw 72\\nSkipping line 312: expected 57 fields, saw 72\\nSkipping line 313: expected 57 fields, saw 72\\nSkipping line 314: expected 57 fields, saw 72\\nSkipping line 315: expected 57 fields, saw 72\\nSkipping line 316: expected 57 fields, saw 72\\nSkipping line 317: expected 57 fields, saw 72\\nSkipping line 318: expected 57 fields, saw 72\\nSkipping line 319: expected 57 fields, saw 72\\nSkipping line 320: expected 57 fields, saw 72\\nSkipping line 321: expected 57 fields, saw 72\\nSkipping line 322: expected 57 fields, saw 72\\nSkipping line 323: expected 57 fields, saw 72\\nSkipping line 324: expected 57 fields, saw 72\\nSkipping line 325: expected 57 fields, saw 72\\nSkipping line 326: expected 57 fields, saw 72\\nSkipping line 327: expected 57 fields, saw 72\\nSkipping line 328: expected 57 fields, saw 72\\nSkipping line 329: expected 57 fields, saw 72\\nSkipping line 330: expected 57 fields, saw 72\\nSkipping line 331: expected 57 fields, saw 72\\nSkipping line 332: expected 57 fields, saw 72\\nSkipping line 333: expected 57 fields, saw 72\\nSkipping line 334: expected 57 fields, saw 72\\nSkipping line 335: expected 57 fields, saw 72\\nSkipping line 336: expected 57 fields, saw 72\\nSkipping line 369: expected 57 fields, saw 62\\nSkipping line 370: expected 57 fields, saw 62\\nSkipping line 371: expected 57 fields, saw 62\\nSkipping line 372: expected 57 fields, saw 62\\nSkipping line 373: expected 57 fields, saw 62\\nSkipping line 374: expected 57 fields, saw 62\\nSkipping line 375: expected 57 fields, saw 62\\nSkipping line 376: expected 57 fields, saw 62\\nSkipping line 377: expected 57 fields, saw 62\\nSkipping line 378: expected 57 fields, saw 62\\nSkipping line 379: expected 57 fields, saw 62\\nSkipping line 380: expected 57 fields, saw 62\\nSkipping line 381: expected 57 fields, saw 62\\n'\n",
            "b'Skipping line 337: expected 57 fields, saw 62\\nSkipping line 338: expected 57 fields, saw 62\\nSkipping line 339: expected 57 fields, saw 62\\nSkipping line 340: expected 57 fields, saw 62\\nSkipping line 341: expected 57 fields, saw 62\\nSkipping line 342: expected 57 fields, saw 62\\nSkipping line 343: expected 57 fields, saw 62\\nSkipping line 344: expected 57 fields, saw 62\\nSkipping line 345: expected 57 fields, saw 62\\nSkipping line 346: expected 57 fields, saw 62\\nSkipping line 347: expected 57 fields, saw 62\\nSkipping line 348: expected 57 fields, saw 62\\nSkipping line 349: expected 57 fields, saw 62\\nSkipping line 350: expected 57 fields, saw 62\\nSkipping line 351: expected 57 fields, saw 62\\nSkipping line 352: expected 57 fields, saw 62\\nSkipping line 353: expected 57 fields, saw 62\\nSkipping line 354: expected 57 fields, saw 62\\nSkipping line 355: expected 57 fields, saw 62\\nSkipping line 356: expected 57 fields, saw 62\\nSkipping line 357: expected 57 fields, saw 62\\nSkipping line 358: expected 57 fields, saw 62\\nSkipping line 359: expected 57 fields, saw 62\\nSkipping line 360: expected 57 fields, saw 62\\nSkipping line 361: expected 57 fields, saw 62\\nSkipping line 362: expected 57 fields, saw 62\\nSkipping line 363: expected 57 fields, saw 62\\nSkipping line 364: expected 57 fields, saw 62\\nSkipping line 365: expected 57 fields, saw 62\\nSkipping line 366: expected 57 fields, saw 62\\nSkipping line 367: expected 57 fields, saw 62\\nSkipping line 368: expected 57 fields, saw 62\\nSkipping line 369: expected 57 fields, saw 62\\nSkipping line 370: expected 57 fields, saw 62\\nSkipping line 371: expected 57 fields, saw 62\\nSkipping line 372: expected 57 fields, saw 62\\nSkipping line 373: expected 57 fields, saw 62\\nSkipping line 374: expected 57 fields, saw 62\\nSkipping line 375: expected 57 fields, saw 62\\nSkipping line 376: expected 57 fields, saw 62\\nSkipping line 377: expected 57 fields, saw 62\\nSkipping line 378: expected 57 fields, saw 62\\nSkipping line 379: expected 57 fields, saw 62\\nSkipping line 380: expected 57 fields, saw 62\\nSkipping line 381: expected 57 fields, saw 62\\n'\n"
          ],
          "name": "stderr"
        }
      ]
    },
    {
      "metadata": {
        "id": "O3_FYKAct0UT",
        "colab_type": "code",
        "colab": {
          "autoexec": {
            "startup": false,
            "wait_interval": 0
          },
          "output_extras": [
            {
              "item_id": 1
            }
          ],
          "base_uri": "https://localhost:8080/",
          "height": 34
        },
        "outputId": "f945cfcc-10b8-404b-9aa7-c0bcce226369",
        "executionInfo": {
          "status": "ok",
          "timestamp": 1519780983524,
          "user_tz": 300,
          "elapsed": 267,
          "user": {
            "displayName": "Sam Gottuso",
            "photoUrl": "https://lh3.googleusercontent.com/a/default-user=s128",
            "userId": "100314253426387371036"
          }
        }
      },
      "cell_type": "code",
      "source": [
        "#This allows us to merge the data together into 1 data source-- see that we are working with 6687 games (Bigger data set than the last time I ran through this)\n",
        "\n",
        "data_names=[S_0,S_1,S_2,S_3,S_4,S_5,S_6,S_7,S_8,S_9,S_10,S_11,S_12,S_13,S_14,S_15,S_16,S_17]\n",
        "\n",
        "merged_data=pd.concat(data_names,ignore_index=True,join='inner')\n",
        "\n",
        "merged_data.dtypes\n",
        "\n",
        "\n",
        "\n",
        "\n",
        "len(merged_data)"
      ],
      "execution_count": 7,
      "outputs": [
        {
          "output_type": "execute_result",
          "data": {
            "text/plain": [
              "6687"
            ]
          },
          "metadata": {
            "tags": []
          },
          "execution_count": 7
        }
      ]
    },
    {
      "metadata": {
        "id": "REskjm_GD1Ly",
        "colab_type": "code",
        "colab": {
          "autoexec": {
            "startup": false,
            "wait_interval": 0
          }
        }
      },
      "cell_type": "code",
      "source": [
        "#This cell adds what the Sports books picks were and whether or not it was an upset (not the same as what the sport books predicted)\n",
        "\n",
        "setup_data=merged_data\n",
        "setup_data['pick']=''\n",
        "setup_data['upset']=int\n",
        "\n",
        "\n",
        "ft_col=['Date','HomeTeam','AwayTeam','FTHG','FTAG','FTR','HS','AS','HST','AST','HF','AF','HY','AY','pick','upset','WHH','WHD','WHA']\n",
        "setup_data_ft=setup_data[ft_col]"
      ],
      "execution_count": 0,
      "outputs": []
    },
    {
      "metadata": {
        "id": "heJjYDxp9ybT",
        "colab_type": "code",
        "colab": {
          "autoexec": {
            "startup": false,
            "wait_interval": 0
          },
          "output_extras": [
            {
              "item_id": 1
            },
            {
              "item_id": 2
            }
          ],
          "base_uri": "https://localhost:8080/",
          "height": 364
        },
        "outputId": "e33d8954-fd26-4fa8-99d8-f789ae3bcad2",
        "executionInfo": {
          "status": "ok",
          "timestamp": 1519781926253,
          "user_tz": 300,
          "elapsed": 26474,
          "user": {
            "displayName": "Sam Gottuso",
            "photoUrl": "https://lh3.googleusercontent.com/a/default-user=s128",
            "userId": "100314253426387371036"
          }
        }
      },
      "cell_type": "code",
      "source": [
        "#We have 115 games that are missing WH data\n",
        "setup_data_no_NA_ft=setup_data_ft.dropna()\n",
        "\n",
        "print(len(setup_data_ft)-len(setup_data_no_NA_ft))\n",
        "\n",
        "#This would get rid of 115 games... is there anyway we can impute missing values?\n",
        "\n",
        "setup_data_NA=setup_data_ft[setup_data_ft.isnull().any(axis=1)]\n",
        "\n",
        "setup_data_NA\n",
        "\n",
        "\n",
        "#Maybe use GBH/GBA/GBD?\n",
        "row_list=[]\n",
        "for row in setup_data_NA.index:\n",
        "  setup_data_ft['WHH'][row]=setup_data['LBH'][row]\n",
        "  setup_data_ft['WHA'][row]=setup_data['LBA'][row]\n",
        "  setup_data_ft['WHD'][row]=setup_data['LBD'][row]\n",
        " \n",
        "\n",
        "\n",
        "\n"
      ],
      "execution_count": 31,
      "outputs": [
        {
          "output_type": "stream",
          "text": [
            "115\n"
          ],
          "name": "stdout"
        },
        {
          "output_type": "stream",
          "text": [
            "/usr/local/lib/python3.6/dist-packages/ipykernel_launcher.py:15: SettingWithCopyWarning: \n",
            "A value is trying to be set on a copy of a slice from a DataFrame\n",
            "\n",
            "See the caveats in the documentation: http://pandas.pydata.org/pandas-docs/stable/indexing.html#indexing-view-versus-copy\n",
            "  from ipykernel import kernelapp as app\n",
            "/usr/local/lib/python3.6/dist-packages/IPython/core/interactiveshell.py:2882: SettingWithCopyWarning: \n",
            "A value is trying to be set on a copy of a slice from a DataFrame\n",
            "\n",
            "See the caveats in the documentation: http://pandas.pydata.org/pandas-docs/stable/indexing.html#indexing-view-versus-copy\n",
            "  exec(code_obj, self.user_global_ns, self.user_ns)\n",
            "/usr/local/lib/python3.6/dist-packages/ipykernel_launcher.py:16: SettingWithCopyWarning: \n",
            "A value is trying to be set on a copy of a slice from a DataFrame\n",
            "\n",
            "See the caveats in the documentation: http://pandas.pydata.org/pandas-docs/stable/indexing.html#indexing-view-versus-copy\n",
            "  app.launch_new_instance()\n",
            "/usr/local/lib/python3.6/dist-packages/ipykernel_launcher.py:17: SettingWithCopyWarning: \n",
            "A value is trying to be set on a copy of a slice from a DataFrame\n",
            "\n",
            "See the caveats in the documentation: http://pandas.pydata.org/pandas-docs/stable/indexing.html#indexing-view-versus-copy\n"
          ],
          "name": "stderr"
        }
      ]
    },
    {
      "metadata": {
        "id": "8XzHbY7jvtGG",
        "colab_type": "code",
        "colab": {
          "autoexec": {
            "startup": false,
            "wait_interval": 0
          }
        }
      },
      "cell_type": "code",
      "source": [
        "\n",
        "\n",
        "##Initial data cleaning and addition of columns-- this function adds both what William picked for the game (with the lowest odds) and whether the actual result matched that\n",
        "##Changed from Bet 365 to William Hill to include more data--except for the replaced values in the earlier cell\n",
        "\n",
        "##New Faster way to assign using df.apply\n",
        "pick=''\n",
        "def odds_pick(row):\n",
        "  home= row['WHH']\n",
        "  away= row['WHA']\n",
        "  draw= row['WHD']\n",
        "  min_odds=min(home,away,draw)\n",
        "  if min_odds == home:\n",
        "    pick='H'\n",
        "  elif min_odds == away:\n",
        "    pick='A'\n",
        "  else:\n",
        "    pick='D'\n",
        "  return pick\n",
        "\n",
        "setup_data_ft['pick']=setup_data_ft.apply(odds_pick,axis=1)\n",
        "\n",
        "def upset_pick(row):\n",
        "  if row['pick']==row['FTR']:\n",
        "    upset=1\n",
        "  else:\n",
        "    upset=0\n",
        "  return upset\n",
        "\n",
        "setup_data_ft['upset']=setup_data_ft.apply(upset_pick,axis=1)\n"
      ],
      "execution_count": 0,
      "outputs": []
    },
    {
      "metadata": {
        "id": "ScPvm3gv9Xsn",
        "colab_type": "code",
        "colab": {
          "autoexec": {
            "startup": false,
            "wait_interval": 0
          },
          "output_extras": [
            {
              "item_id": 1
            }
          ],
          "base_uri": "https://localhost:8080/",
          "height": 1126
        },
        "outputId": "79a3cf60-b47b-4dcb-876d-1f633c85136b",
        "executionInfo": {
          "status": "ok",
          "timestamp": 1519783864985,
          "user_tz": 300,
          "elapsed": 331,
          "user": {
            "displayName": "Sam Gottuso",
            "photoUrl": "https://lh3.googleusercontent.com/a/default-user=s128",
            "userId": "100314253426387371036"
          }
        }
      },
      "cell_type": "code",
      "source": [
        "##Testing the value of being at home... if the winning team was at home=2, if home team draw=1 if lost=0\n",
        "\n",
        "setup_data_ft['home'] = pd.factorize(setup_data_ft['FTR'],sort=['A','D','H'])[0]\n",
        "#Making sure everything lines up\n",
        "print(setup_data_ft[['FTR','home']])"
      ],
      "execution_count": 69,
      "outputs": [
        {
          "output_type": "stream",
          "text": [
            "     FTR  home\n",
            "0      H     2\n",
            "1      H     2\n",
            "2      A     0\n",
            "3      D     1\n",
            "4      H     2\n",
            "5      D     1\n",
            "6      H     2\n",
            "7      H     2\n",
            "8      H     2\n",
            "9      H     2\n",
            "10     H     2\n",
            "11     H     2\n",
            "12     D     1\n",
            "13     D     1\n",
            "14     H     2\n",
            "15     H     2\n",
            "16     H     2\n",
            "17     A     0\n",
            "18     A     0\n",
            "19     H     2\n",
            "20     D     1\n",
            "21     D     1\n",
            "22     H     2\n",
            "23     A     0\n",
            "24     A     0\n",
            "25     H     2\n",
            "26     D     1\n",
            "27     D     1\n",
            "28     D     1\n",
            "29     A     0\n",
            "...   ..   ...\n",
            "6657   H     2\n",
            "6658   H     2\n",
            "6659   D     1\n",
            "6660   H     2\n",
            "6661   A     0\n",
            "6662   H     2\n",
            "6663   A     0\n",
            "6664   H     2\n",
            "6665   H     2\n",
            "6666   A     0\n",
            "6667   A     0\n",
            "6668   A     0\n",
            "6669   H     2\n",
            "6670   H     2\n",
            "6671   A     0\n",
            "6672   H     2\n",
            "6673   H     2\n",
            "6674   H     2\n",
            "6675   D     1\n",
            "6676   A     0\n",
            "6677   H     2\n",
            "6678   A     0\n",
            "6679   H     2\n",
            "6680   A     0\n",
            "6681   D     1\n",
            "6682   H     2\n",
            "6683   H     2\n",
            "6684   A     0\n",
            "6685   H     2\n",
            "6686   A     0\n",
            "\n",
            "[6686 rows x 2 columns]\n"
          ],
          "name": "stdout"
        }
      ]
    },
    {
      "metadata": {
        "id": "paHAL2Yu9jR2",
        "colab_type": "code",
        "colab": {
          "autoexec": {
            "startup": false,
            "wait_interval": 0
          },
          "output_extras": [
            {
              "item_id": 1
            }
          ],
          "base_uri": "https://localhost:8080/",
          "height": 918
        },
        "outputId": "42b800b6-6888-416e-c17f-93f1c7f37ca1",
        "executionInfo": {
          "status": "ok",
          "timestamp": 1519783869599,
          "user_tz": 300,
          "elapsed": 304,
          "user": {
            "displayName": "Sam Gottuso",
            "photoUrl": "https://lh3.googleusercontent.com/a/default-user=s128",
            "userId": "100314253426387371036"
          }
        }
      },
      "cell_type": "code",
      "source": [
        "#Make sure it didn't return any null values and checking object types\n",
        "\n",
        "print(pd.isnull(setup_data_ft).sum())\n",
        "print(setup_data_ft.dtypes)\n",
        "\n",
        "#so just one remaining game that is still null\n",
        "\n",
        "#Getting rid of the that one row\n",
        "\n",
        "setup_data_ft=setup_data_ft.dropna()"
      ],
      "execution_count": 70,
      "outputs": [
        {
          "output_type": "stream",
          "text": [
            "Date                     0\n",
            "HomeTeam                 0\n",
            "AwayTeam                 0\n",
            "FTHG                     0\n",
            "FTAG                     0\n",
            "FTR                      0\n",
            "HS                       0\n",
            "AS                       0\n",
            "HST                      0\n",
            "AST                      0\n",
            "HF                       0\n",
            "AF                       0\n",
            "HY                       0\n",
            "AY                       0\n",
            "pick                     0\n",
            "upset                    0\n",
            "WHH                      0\n",
            "WHD                      0\n",
            "WHA                      0\n",
            "home                     0\n",
            "total_shots              0\n",
            "total_shots_on_target    0\n",
            "total_goals              0\n",
            "total_fouls              0\n",
            "total_yellow             0\n",
            "dtype: int64\n",
            "Date                      object\n",
            "HomeTeam                  object\n",
            "AwayTeam                  object\n",
            "FTHG                     float64\n",
            "FTAG                     float64\n",
            "FTR                       object\n",
            "HS                       float64\n",
            "AS                       float64\n",
            "HST                      float64\n",
            "AST                      float64\n",
            "HF                       float64\n",
            "AF                       float64\n",
            "HY                       float64\n",
            "AY                       float64\n",
            "pick                      object\n",
            "upset                      int64\n",
            "WHH                      float64\n",
            "WHD                      float64\n",
            "WHA                      float64\n",
            "home                       int64\n",
            "total_shots              float64\n",
            "total_shots_on_target    float64\n",
            "total_goals              float64\n",
            "total_fouls              float64\n",
            "total_yellow             float64\n",
            "dtype: object\n"
          ],
          "name": "stdout"
        }
      ]
    },
    {
      "metadata": {
        "id": "BgT4uOFnCq7O",
        "colab_type": "code",
        "colab": {
          "autoexec": {
            "startup": false,
            "wait_interval": 0
          },
          "output_extras": [
            {
              "item_id": 1
            }
          ],
          "base_uri": "https://localhost:8080/",
          "height": 468
        },
        "outputId": "956989ab-5b1d-4f00-e4d6-d7f56da66cc3",
        "executionInfo": {
          "status": "ok",
          "timestamp": 1519783878328,
          "user_tz": 300,
          "elapsed": 293,
          "user": {
            "displayName": "Sam Gottuso",
            "photoUrl": "https://lh3.googleusercontent.com/a/default-user=s128",
            "userId": "100314253426387371036"
          }
        }
      },
      "cell_type": "code",
      "source": [
        "##Creating some other fields which will be useful for comparing games to one another\n",
        "setup_data_ft['total_shots']=setup_data_ft.HS+setup_data_ft.AS\n",
        "setup_data_ft['total_shots_on_target']=setup_data_ft.HST+setup_data_ft.AST\n",
        "setup_data_ft['total_goals']=setup_data_ft.FTHG+setup_data_ft.FTAG\n",
        "setup_data_ft['total_fouls']=setup_data_ft.HF+setup_data_ft.AF\n",
        "setup_data_ft['total_yellow']=setup_data_ft.HY+setup_data_ft.AY\n",
        "\n",
        "\n",
        "print(setup_data_ft.dtypes)\n",
        "#returns some objects that mess things up later so let's change them up\n"
      ],
      "execution_count": 71,
      "outputs": [
        {
          "output_type": "stream",
          "text": [
            "Date                      object\n",
            "HomeTeam                  object\n",
            "AwayTeam                  object\n",
            "FTHG                     float64\n",
            "FTAG                     float64\n",
            "FTR                       object\n",
            "HS                       float64\n",
            "AS                       float64\n",
            "HST                      float64\n",
            "AST                      float64\n",
            "HF                       float64\n",
            "AF                       float64\n",
            "HY                       float64\n",
            "AY                       float64\n",
            "pick                      object\n",
            "upset                      int64\n",
            "WHH                      float64\n",
            "WHD                      float64\n",
            "WHA                      float64\n",
            "home                       int64\n",
            "total_shots              float64\n",
            "total_shots_on_target    float64\n",
            "total_goals              float64\n",
            "total_fouls              float64\n",
            "total_yellow             float64\n",
            "dtype: object\n"
          ],
          "name": "stdout"
        }
      ]
    },
    {
      "metadata": {
        "id": "VxivYKWUGBLV",
        "colab_type": "code",
        "colab": {
          "autoexec": {
            "startup": false,
            "wait_interval": 0
          },
          "output_extras": [
            {
              "item_id": 1
            },
            {
              "item_id": 2
            }
          ],
          "base_uri": "https://localhost:8080/",
          "height": 745
        },
        "outputId": "d37cb970-2690-44ae-f403-0a586fff20bd",
        "executionInfo": {
          "status": "ok",
          "timestamp": 1519783883126,
          "user_tz": 300,
          "elapsed": 464,
          "user": {
            "displayName": "Sam Gottuso",
            "photoUrl": "https://lh3.googleusercontent.com/a/default-user=s128",
            "userId": "100314253426387371036"
          }
        }
      },
      "cell_type": "code",
      "source": [
        "#Figuring out what's related\n",
        "\n",
        "#Break down our data further so we can do some correlations\n",
        "numerical_cols=['upset','home','total_shots','total_shots_on_target','total_fouls','total_yellow','total_goals']\n",
        "numerical_data=setup_data_ft[numerical_cols]\n",
        "\n",
        "num_cor=numerical_data.corr()\n",
        "\n",
        "print(num_cor)\n",
        "print(sns.heatmap(num_cor))\n",
        "\n",
        "#This info isn't super helpful (since we would assume that shots are correlated with shots on target already) so let's make a pivot table and look at averages by result"
      ],
      "execution_count": 72,
      "outputs": [
        {
          "output_type": "stream",
          "text": [
            "                          upset      home  total_shots  total_shots_on_target  \\\n",
            "upset                  1.000000  0.397014     0.042765               0.087536   \n",
            "home                   0.397014  1.000000    -0.003923               0.034540   \n",
            "total_shots            0.042765 -0.003923     1.000000               0.574333   \n",
            "total_shots_on_target  0.087536  0.034540     0.574333               1.000000   \n",
            "total_fouls           -0.097915 -0.012205    -0.176580              -0.056509   \n",
            "total_yellow          -0.091033 -0.062118    -0.045623              -0.057149   \n",
            "total_goals            0.210502  0.060498     0.210434               0.340012   \n",
            "\n",
            "                       total_fouls  total_yellow  total_goals  \n",
            "upset                    -0.097915     -0.091033     0.210502  \n",
            "home                     -0.012205     -0.062118     0.060498  \n",
            "total_shots              -0.176580     -0.045623     0.210434  \n",
            "total_shots_on_target    -0.056509     -0.057149     0.340012  \n",
            "total_fouls               1.000000      0.357452    -0.064179  \n",
            "total_yellow              0.357452      1.000000    -0.012254  \n",
            "total_goals              -0.064179     -0.012254     1.000000  \n",
            "AxesSubplot(0.125,0.125;0.62x0.755)\n"
          ],
          "name": "stdout"
        },
        {
          "output_type": "display_data",
          "data": {
            "image/png": "[encoded data removed]",
            "text/plain": [
              "<matplotlib.figure.Figure at 0x7f93fc372940>"
            ]
          },
          "metadata": {
            "tags": []
          }
        }
      ]
    },
    {
      "metadata": {
        "id": "4Tj3Nyc3GTZQ",
        "colab_type": "code",
        "colab": {
          "autoexec": {
            "startup": false,
            "wait_interval": 0
          },
          "output_extras": [
            {
              "item_id": 1
            },
            {
              "item_id": 2
            }
          ],
          "base_uri": "https://localhost:8080/",
          "height": 378
        },
        "outputId": "0d95d05f-3216-4c11-9c1c-450b3172acba",
        "executionInfo": {
          "status": "ok",
          "timestamp": 1519783890419,
          "user_tz": 300,
          "elapsed": 485,
          "user": {
            "displayName": "Sam Gottuso",
            "photoUrl": "https://lh3.googleusercontent.com/a/default-user=s128",
            "userId": "100314253426387371036"
          }
        }
      },
      "cell_type": "code",
      "source": [
        "#Making the pivot table\n",
        "\n",
        "ft_pt=['total_shots','total_shots_on_target','total_fouls','total_yellow','total_goals']\n",
        "\n",
        "piv=pd.pivot_table(numerical_data,columns=['upset'])\n",
        "\n",
        "print(sns.heatmap(piv,annot=True,cmap='Reds'))\n",
        "\n",
        "#looks like upsets are slightly more likely to have more goals, fewer fouls, more shots and to be when the home team is the underdog"
      ],
      "execution_count": 73,
      "outputs": [
        {
          "output_type": "stream",
          "text": [
            "AxesSubplot(0.125,0.125;0.62x0.755)\n"
          ],
          "name": "stdout"
        },
        {
          "output_type": "display_data",
          "data": {
            "image/png": "[encoded data removed]",
            "text/plain": [
              "<matplotlib.figure.Figure at 0x7f93fc3094a8>"
            ]
          },
          "metadata": {
            "tags": []
          }
        }
      ]
    },
    {
      "metadata": {
        "id": "yMiF2G48Gx5w",
        "colab_type": "code",
        "colab": {
          "autoexec": {
            "startup": false,
            "wait_interval": 0
          },
          "output_extras": [
            {
              "item_id": 1
            }
          ],
          "base_uri": "https://localhost:8080/",
          "height": 104
        },
        "outputId": "2555608a-be54-43f3-9a50-24da78ae6dec",
        "executionInfo": {
          "status": "ok",
          "timestamp": 1519784876681,
          "user_tz": 300,
          "elapsed": 334,
          "user": {
            "displayName": "Sam Gottuso",
            "photoUrl": "https://lh3.googleusercontent.com/a/default-user=s128",
            "userId": "100314253426387371036"
          }
        }
      },
      "cell_type": "code",
      "source": [
        "#First model-- using logistic regression for classification with all of our factors\n",
        "from sklearn import linear_model, model_selection\n",
        "from sklearn.linear_model import LogisticRegression\n",
        "lr_1=LogisticRegression()\n",
        "\n",
        "ft_model=['home','total_shots','total_shots_on_target','total_fouls','total_yellow','total_goals']\n",
        "\n",
        "X_df=setup_data_ft[ft_model]\n",
        "\n",
        "y_df=setup_data_ft['upset']\n",
        "\n",
        "X=np.array(setup_data_ft[ft_model])\n",
        "y=np.array(setup_data_ft['upset'].astype(str))\n",
        "\n",
        "\n",
        "X_train,X_test,y_train,y_test=model_selection.train_test_split(X,y,random_state=8)\n",
        "\n",
        "log1=linear_model.LogisticRegression(C=1e9).fit(X_train,y_train)\n",
        "\n",
        "\n",
        "print(log1.score(X_test,y_test))\n",
        "\n"
      ],
      "execution_count": 98,
      "outputs": [
        {
          "output_type": "stream",
          "text": [
            "0.7200956937799043\n",
            "<bound method BaseEstimator.get_params of LogisticRegression(C=1000000000.0, class_weight=None, dual=False,\n",
            "          fit_intercept=True, intercept_scaling=1, max_iter=100,\n",
            "          multi_class='ovr', n_jobs=1, penalty='l2', random_state=None,\n",
            "          solver='liblinear', tol=0.0001, verbose=0, warm_start=False)>\n"
          ],
          "name": "stdout"
        }
      ]
    },
    {
      "metadata": {
        "id": "ozk1gS3fP82P",
        "colab_type": "code",
        "colab": {
          "autoexec": {
            "startup": false,
            "wait_interval": 0
          },
          "output_extras": [
            {
              "item_id": 1
            }
          ],
          "base_uri": "https://localhost:8080/",
          "height": 232
        },
        "outputId": "f2ac97a1-0f35-429c-cf2c-ffc5c174ecaf",
        "executionInfo": {
          "status": "ok",
          "timestamp": 1519785302364,
          "user_tz": 300,
          "elapsed": 273,
          "user": {
            "displayName": "Sam Gottuso",
            "photoUrl": "https://lh3.googleusercontent.com/a/default-user=s128",
            "userId": "100314253426387371036"
          }
        }
      },
      "cell_type": "code",
      "source": [
        "#How were our factors weighted?\n",
        "\n",
        "pd.DataFrame(list(zip(X_df.columns, np.transpose(log1.coef_))))"
      ],
      "execution_count": 115,
      "outputs": [
        {
          "output_type": "execute_result",
          "data": {
            "text/html": [
              "<div>\n",
              "<style scoped>\n",
              "    .dataframe tbody tr th:only-of-type {\n",
              "        vertical-align: middle;\n",
              "    }\n",
              "\n",
              "    .dataframe tbody tr th {\n",
              "        vertical-align: top;\n",
              "    }\n",
              "\n",
              "    .dataframe thead th {\n",
              "        text-align: right;\n",
              "    }\n",
              "</style>\n",
              "<table border=\"1\" class=\"dataframe\">\n",
              "  <thead>\n",
              "    <tr style=\"text-align: right;\">\n",
              "      <th></th>\n",
              "      <th>0</th>\n",
              "      <th>1</th>\n",
              "    </tr>\n",
              "  </thead>\n",
              "  <tbody>\n",
              "    <tr>\n",
              "      <th>0</th>\n",
              "      <td>home</td>\n",
              "      <td>[1.0218116772850139]</td>\n",
              "    </tr>\n",
              "    <tr>\n",
              "      <th>1</th>\n",
              "      <td>total_shots</td>\n",
              "      <td>[-0.005818933534533992]</td>\n",
              "    </tr>\n",
              "    <tr>\n",
              "      <th>2</th>\n",
              "      <td>total_shots_on_target</td>\n",
              "      <td>[0.0068609995796928384]</td>\n",
              "    </tr>\n",
              "    <tr>\n",
              "      <th>3</th>\n",
              "      <td>total_fouls</td>\n",
              "      <td>[-0.029412432262746206]</td>\n",
              "    </tr>\n",
              "    <tr>\n",
              "      <th>4</th>\n",
              "      <td>total_yellow</td>\n",
              "      <td>[-0.06809978283914896]</td>\n",
              "    </tr>\n",
              "    <tr>\n",
              "      <th>5</th>\n",
              "      <td>total_goals</td>\n",
              "      <td>[0.27589913311166087]</td>\n",
              "    </tr>\n",
              "  </tbody>\n",
              "</table>\n",
              "</div>"
            ],
            "text/plain": [
              "                       0                        1\n",
              "0                   home     [1.0218116772850139]\n",
              "1            total_shots  [-0.005818933534533992]\n",
              "2  total_shots_on_target  [0.0068609995796928384]\n",
              "3            total_fouls  [-0.029412432262746206]\n",
              "4           total_yellow   [-0.06809978283914896]\n",
              "5            total_goals    [0.27589913311166087]"
            ]
          },
          "metadata": {
            "tags": []
          },
          "execution_count": 115
        }
      ]
    },
    {
      "metadata": {
        "id": "Vlg4fHDSNj50",
        "colab_type": "code",
        "colab": {
          "autoexec": {
            "startup": false,
            "wait_interval": 0
          },
          "output_extras": [
            {
              "item_id": 1
            }
          ],
          "base_uri": "https://localhost:8080/",
          "height": 34
        },
        "outputId": "6e15ecd6-c211-42f3-fb86-bbd563149a41",
        "executionInfo": {
          "status": "ok",
          "timestamp": 1519784823391,
          "user_tz": 300,
          "elapsed": 280,
          "user": {
            "displayName": "Sam Gottuso",
            "photoUrl": "https://lh3.googleusercontent.com/a/default-user=s128",
            "userId": "100314253426387371036"
          }
        }
      },
      "cell_type": "code",
      "source": [
        "#What if we just look at offensive categories?\n",
        "\n",
        "lr_O=LogisticRegression()\n",
        "offense_list=['total_shots','total_goals']\n",
        "X_O_df=setup_data_ft[offense_list]\n",
        "y_O_df=setup_data_ft['upset']\n",
        "\n",
        "X_O=np.array(X_O_df)\n",
        "y_O=np.array(y_O_df)\n",
        "\n",
        "X_O_train,X_O_test,y_O_train,y_O_test=model_selection.train_test_split(X_O,y_O,random_state=8)\n",
        "\n",
        "logO=lr_O.fit(X_O_train,y_O_train)\n",
        "\n",
        "print(logO.score(X_O_test,y_O_test))\n"
      ],
      "execution_count": 94,
      "outputs": [
        {
          "output_type": "stream",
          "text": [
            "0.6106459330143541\n"
          ],
          "name": "stdout"
        }
      ]
    },
    {
      "metadata": {
        "id": "jU2uhrtfJl3p",
        "colab_type": "code",
        "colab": {
          "autoexec": {
            "startup": false,
            "wait_interval": 0
          },
          "output_extras": [
            {
              "item_id": 1
            }
          ],
          "base_uri": "https://localhost:8080/",
          "height": 208
        },
        "outputId": "e806c8c1-bd5b-4ac6-f6e3-76222489f056",
        "executionInfo": {
          "status": "ok",
          "timestamp": 1519785032046,
          "user_tz": 300,
          "elapsed": 2132,
          "user": {
            "displayName": "Sam Gottuso",
            "photoUrl": "https://lh3.googleusercontent.com/a/default-user=s128",
            "userId": "100314253426387371036"
          }
        }
      },
      "cell_type": "code",
      "source": [
        "#Color Plot taken from http://scikit-learn.org/stable/auto_examples/linear_model/plot_iris_logistic.html\n",
        "h=.02\n",
        "x_min, x_max = X_O[:, 0].min() - .5, X_O[:, 0].max() + .5\n",
        "y_min, y_max = X_O[:, 1].min() - .5, X_O[:, 1].max() + .5\n",
        "xx, yy = np.meshgrid(np.arange(x_min, x_max, h), np.arange(y_min, y_max, h))\n",
        "Z = logO.predict(np.c_[xx.ravel(), yy.ravel()])\n",
        "\n",
        "# Put the result into a color plot\n",
        "Z = Z.reshape(xx.shape)\n",
        "plt.figure(1, figsize=(4, 3))\n",
        "plt.pcolormesh(xx, yy, Z, cmap=plt.cm.Paired)\n",
        "\n",
        "plt.scatter(X_O[:, 0], X_O[:, 1], c=y_O, edgecolors='k', cmap=plt.cm.Paired)\n",
        "plt.xlabel('Total_Shots')\n",
        "plt.ylabel('Total_Goals')\n",
        "\n",
        "plt.xlim(xx.min(), xx.max())\n",
        "plt.ylim(yy.min(), yy.max())\n",
        "plt.xticks(())\n",
        "plt.yticks(())\n",
        "\n",
        "plt.show()"
      ],
      "execution_count": 104,
      "outputs": [
        {
          "output_type": "display_data",
          "data": {
            "image/png": "[encoded data removed]",
            "text/plain": [
              "<matplotlib.figure.Figure at 0x7f93fbfa1f28>"
            ]
          },
          "metadata": {
            "tags": []
          }
        }
      ]
    },
    {
      "metadata": {
        "id": "IVtlFdMfP2hv",
        "colab_type": "code",
        "colab": {
          "autoexec": {
            "startup": false,
            "wait_interval": 0
          },
          "output_extras": [
            {
              "item_id": 1
            }
          ],
          "base_uri": "https://localhost:8080/",
          "height": 361
        },
        "outputId": "f1acc3d0-145a-4c04-9fd7-9b469717c132",
        "executionInfo": {
          "status": "ok",
          "timestamp": 1519785577328,
          "user_tz": 300,
          "elapsed": 23279,
          "user": {
            "displayName": "Sam Gottuso",
            "photoUrl": "https://lh3.googleusercontent.com/a/default-user=s128",
            "userId": "100314253426387371036"
          }
        }
      },
      "cell_type": "code",
      "source": [
        "#KNN Model\n",
        "\n",
        "from sklearn import neighbors\n",
        "\n",
        "scores = []\n",
        "for k in range(1,100):\n",
        "    knn = neighbors.KNeighborsClassifier(n_neighbors=k)\n",
        "    knn.fit(X,y)\n",
        "    pred = knn.predict(X)\n",
        "    score = float(sum(pred == y)) / len(y)\n",
        "    scores.append([k, score])\n",
        "    \n",
        "plot_data = pd.DataFrame(scores,columns=['k','score'])\n",
        "plot_data.plot.line(x='k',y='score');"
      ],
      "execution_count": 121,
      "outputs": [
        {
          "output_type": "display_data",
          "data": {
            "image/png": "[encoded data removed]",
            "text/plain": [
              "<matplotlib.figure.Figure at 0x7f93fc32d710>"
            ]
          },
          "metadata": {
            "tags": []
          }
        }
      ]
    }
  ]
}